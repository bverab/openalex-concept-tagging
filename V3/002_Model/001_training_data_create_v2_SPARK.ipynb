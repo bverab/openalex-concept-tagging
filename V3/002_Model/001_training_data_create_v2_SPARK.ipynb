{
 "cells": [
  {
   "cell_type": "code",
   "execution_count": 0,
   "metadata": {
    "application/vnd.databricks.v1+cell": {
     "inputWidgets": {},
     "nuid": "44920190-9120-4ae8-858f-14f52b073315",
     "showTitle": false,
     "title": ""
    }
   },
   "outputs": [
    {
     "data": {
      "text/html": [
       "<style scoped>\n",
       "  .ansiout {\n",
       "    display: block;\n",
       "    unicode-bidi: embed;\n",
       "    white-space: pre-wrap;\n",
       "    word-wrap: break-word;\n",
       "    word-break: break-all;\n",
       "    font-family: \"Source Code Pro\", \"Menlo\", monospace;;\n",
       "    font-size: 13px;\n",
       "    color: #555;\n",
       "    margin-left: 4px;\n",
       "    line-height: 19px;\n",
       "  }\n",
       "</style>\n",
       "<div class=\"ansiout\"></div>"
      ]
     },
     "metadata": {
      "application/vnd.databricks.v1+output": {
       "addedWidgets": {},
       "arguments": {},
       "data": "<div class=\"ansiout\"></div>",
       "datasetInfos": [],
       "metadata": {},
       "removedWidgets": [],
       "type": "html"
      }
     },
     "output_type": "display_data"
    }
   ],
   "source": [
    "import pickle\n",
    "import boto3\n",
    "import re\n",
    "import json\n",
    "import pandas as pd\n",
    "import numpy as np\n",
    "import matplotlib.pyplot as plt"
   ]
  },
  {
   "cell_type": "code",
   "execution_count": 0,
   "metadata": {
    "application/vnd.databricks.v1+cell": {
     "inputWidgets": {},
     "nuid": "2ba961a2-7e64-4844-8d78-c47e5f47c752",
     "showTitle": false,
     "title": ""
    }
   },
   "outputs": [
    {
     "data": {
      "text/html": [
       "<style scoped>\n",
       "  .ansiout {\n",
       "    display: block;\n",
       "    unicode-bidi: embed;\n",
       "    white-space: pre-wrap;\n",
       "    word-wrap: break-word;\n",
       "    word-break: break-all;\n",
       "    font-family: \"Source Code Pro\", \"Menlo\", monospace;;\n",
       "    font-size: 13px;\n",
       "    color: #555;\n",
       "    margin-left: 4px;\n",
       "    line-height: 19px;\n",
       "  }\n",
       "</style>\n",
       "<div class=\"ansiout\"></div>"
      ]
     },
     "metadata": {
      "application/vnd.databricks.v1+output": {
       "addedWidgets": {},
       "arguments": {},
       "data": "<div class=\"ansiout\"></div>",
       "datasetInfos": [],
       "metadata": {},
       "removedWidgets": [],
       "type": "html"
      }
     },
     "output_type": "display_data"
    }
   ],
   "source": [
    "from pyspark.sql import SparkSession\n",
    "sc = spark.sparkContext\n",
    "from pyspark.sql import SQLContext\n",
    "from pyspark.sql import functions as F\n",
    "from pyspark.sql.window import Window\n",
    "from pyspark.sql.types import IntegerType, StringType, FloatType, ArrayType, DoubleType, StructType, StructField\n",
    "sqlContext = SQLContext(sc)"
   ]
  },
  {
   "cell_type": "code",
   "execution_count": 0,
   "metadata": {
    "application/vnd.databricks.v1+cell": {
     "inputWidgets": {},
     "nuid": "5f29191d-1059-4a1a-a42b-0a11e8599c1f",
     "showTitle": false,
     "title": ""
    }
   },
   "outputs": [
    {
     "data": {
      "text/html": [
       "<style scoped>\n",
       "  .ansiout {\n",
       "    display: block;\n",
       "    unicode-bidi: embed;\n",
       "    white-space: pre-wrap;\n",
       "    word-wrap: break-word;\n",
       "    word-break: break-all;\n",
       "    font-family: \"Source Code Pro\", \"Menlo\", monospace;;\n",
       "    font-size: 13px;\n",
       "    color: #555;\n",
       "    margin-left: 4px;\n",
       "    line-height: 19px;\n",
       "  }\n",
       "</style>\n",
       "<div class=\"ansiout\"></div>"
      ]
     },
     "metadata": {
      "application/vnd.databricks.v1+output": {
       "addedWidgets": {},
       "arguments": {},
       "data": "<div class=\"ansiout\"></div>",
       "datasetInfos": [],
       "metadata": {},
       "removedWidgets": [],
       "type": "html"
      }
     },
     "output_type": "display_data"
    }
   ],
   "source": [
    "base_save_path = \"s3://mag-model-data/raw_mag_data/\"\n",
    "iteration_save_path = \"s3://mag-model-data/V2/iteration_1/\""
   ]
  },
  {
   "cell_type": "markdown",
   "metadata": {
    "application/vnd.databricks.v1+cell": {
     "inputWidgets": {},
     "nuid": "47f9abef-de4b-45bd-8d74-3d30740105f2",
     "showTitle": false,
     "title": ""
    }
   },
   "source": [
    "### Getting all data"
   ]
  },
  {
   "cell_type": "code",
   "execution_count": 0,
   "metadata": {
    "application/vnd.databricks.v1+cell": {
     "inputWidgets": {},
     "nuid": "21919fc2-445a-480a-9465-40f651751af4",
     "showTitle": false,
     "title": ""
    }
   },
   "outputs": [
    {
     "data": {
      "text/html": [
       "<style scoped>\n",
       "  .ansiout {\n",
       "    display: block;\n",
       "    unicode-bidi: embed;\n",
       "    white-space: pre-wrap;\n",
       "    word-wrap: break-word;\n",
       "    word-break: break-all;\n",
       "    font-family: \"Source Code Pro\", \"Menlo\", monospace;;\n",
       "    font-size: 13px;\n",
       "    color: #555;\n",
       "    margin-left: 4px;\n",
       "    line-height: 19px;\n",
       "  }\n",
       "</style>\n",
       "<div class=\"ansiout\"></div>"
      ]
     },
     "metadata": {
      "application/vnd.databricks.v1+output": {
       "addedWidgets": {},
       "arguments": {},
       "data": "<div class=\"ansiout\"></div>",
       "datasetInfos": [],
       "metadata": {},
       "removedWidgets": [],
       "type": "html"
      }
     },
     "output_type": "display_data"
    }
   ],
   "source": [
    "journal_join_query = \\\n",
    "\"\"\"\n",
    "SELECT paper_id, doc_type, original_title, paper_title, journal_name, publication_date, listagg(topic_name, '|') topics\n",
    "FROM (\n",
    "SELECT  a.paper_id, a.doc_type, a.original_title, a.paper_title, a.year, \n",
    "        a.publication_date, b.normalized_name as journal_name,\n",
    "        d.normalized_name as topic_name, d.level\n",
    "FROM (SELECT paper_id, doc_type, original_title, paper_title, book_title, year, \n",
    "             publication_date, online_date, journal_id\n",
    "      FROM mag_main_papers) a\n",
    "LEFT JOIN (SELECT journal_id, normalized_name\n",
    "           FROM mag_main_journals) b\n",
    "ON a.journal_id=b.journal_id\n",
    "LEFT JOIN (SELECT *\n",
    "           FROM mag_advanced_paper_fields_of_study) c\n",
    "ON a.paper_id=c.paper_id\n",
    "LEFT JOIN (SELECT *\n",
    "           FROM mag_advanced_fields_of_study) d\n",
    "ON c.field_of_study=d.field_of_study_id )\n",
    "WHERE topic_name IS NOT NULL\n",
    "GROUP BY paper_id, doc_type, original_title, paper_title, journal_name, publication_date\n",
    "\"\"\""
   ]
  },
  {
   "cell_type": "code",
   "execution_count": 0,
   "metadata": {
    "application/vnd.databricks.v1+cell": {
     "inputWidgets": {},
     "nuid": "1ffdb21a-30af-43cb-997f-2983085f4d93",
     "showTitle": false,
     "title": ""
    }
   },
   "outputs": [
    {
     "data": {
      "text/html": [
       "<style scoped>\n",
       "  .ansiout {\n",
       "    display: block;\n",
       "    unicode-bidi: embed;\n",
       "    white-space: pre-wrap;\n",
       "    word-wrap: break-word;\n",
       "    word-break: break-all;\n",
       "    font-family: \"Source Code Pro\", \"Menlo\", monospace;;\n",
       "    font-size: 13px;\n",
       "    color: #555;\n",
       "    margin-left: 4px;\n",
       "    line-height: 19px;\n",
       "  }\n",
       "</style>\n",
       "<div class=\"ansiout\"></div>"
      ]
     },
     "metadata": {
      "application/vnd.databricks.v1+output": {
       "addedWidgets": {},
       "arguments": {},
       "data": "<div class=\"ansiout\"></div>",
       "datasetInfos": [],
       "metadata": {},
       "removedWidgets": [],
       "type": "html"
      }
     },
     "output_type": "display_data"
    }
   ],
   "source": [
    "def detect_language_(text):\n",
    "    try:\n",
    "        lang = detect(text)\n",
    "    except:\n",
    "        lang = 'UNK'\n",
    "    return lang\n",
    "\n",
    "detect_language = F.udf(detect_language_, StringType())"
   ]
  },
  {
   "cell_type": "code",
   "execution_count": 0,
   "metadata": {
    "application/vnd.databricks.v1+cell": {
     "inputWidgets": {},
     "nuid": "13169071-d5f2-43ea-a332-9e61847ed2a1",
     "showTitle": false,
     "title": ""
    }
   },
   "outputs": [
    {
     "data": {
      "text/html": [
       "<style scoped>\n",
       "  .ansiout {\n",
       "    display: block;\n",
       "    unicode-bidi: embed;\n",
       "    white-space: pre-wrap;\n",
       "    word-wrap: break-word;\n",
       "    word-break: break-all;\n",
       "    font-family: \"Source Code Pro\", \"Menlo\", monospace;;\n",
       "    font-size: 13px;\n",
       "    color: #555;\n",
       "    margin-left: 4px;\n",
       "    line-height: 19px;\n",
       "  }\n",
       "</style>\n",
       "<div class=\"ansiout\"></div>"
      ]
     },
     "metadata": {
      "application/vnd.databricks.v1+output": {
       "addedWidgets": {},
       "arguments": {},
       "data": "<div class=\"ansiout\"></div>",
       "datasetInfos": [],
       "metadata": {},
       "removedWidgets": [],
       "type": "html"
      }
     },
     "output_type": "display_data"
    }
   ],
   "source": [
    "all_data = spark.read \\\n",
    ".format(\"com.databricks.spark.redshift\") \\\n",
    ".option(\"url\", redshift_url) \\\n",
    ".option(\"user\", \"app_user\") \\\n",
    ".option(\"password\", redshift_password) \\\n",
    ".option(\"query\", journal_join_query) \\\n",
    ".option(\"tempdir\", base_save_path) \\\n",
    ".option(\"forward_spark_s3_credentials\", True) \\\n",
    ".load()"
   ]
  },
  {
   "cell_type": "code",
   "execution_count": 0,
   "metadata": {
    "application/vnd.databricks.v1+cell": {
     "inputWidgets": {},
     "nuid": "722faafc-630c-4b46-8dbb-5d62152edd2a",
     "showTitle": false,
     "title": ""
    }
   },
   "outputs": [
    {
     "data": {
      "text/html": [
       "<style scoped>\n",
       "  .ansiout {\n",
       "    display: block;\n",
       "    unicode-bidi: embed;\n",
       "    white-space: pre-wrap;\n",
       "    word-wrap: break-word;\n",
       "    word-break: break-all;\n",
       "    font-family: \"Source Code Pro\", \"Menlo\", monospace;;\n",
       "    font-size: 13px;\n",
       "    color: #555;\n",
       "    margin-left: 4px;\n",
       "    line-height: 19px;\n",
       "  }\n",
       "</style>\n",
       "<div class=\"ansiout\">root\n",
       "-- paper_id: long (nullable = false)\n",
       "-- doc_type: string (nullable = true)\n",
       "-- original_title: string (nullable = true)\n",
       "-- paper_title: string (nullable = true)\n",
       "-- journal_name: string (nullable = true)\n",
       "-- publication_date: string (nullable = true)\n",
       "-- topics: string (nullable = true)\n",
       "\n",
       "</div>"
      ]
     },
     "metadata": {
      "application/vnd.databricks.v1+output": {
       "addedWidgets": {},
       "arguments": {},
       "data": "<div class=\"ansiout\">root\n |-- paper_id: long (nullable = false)\n |-- doc_type: string (nullable = true)\n |-- original_title: string (nullable = true)\n |-- paper_title: string (nullable = true)\n |-- journal_name: string (nullable = true)\n |-- publication_date: string (nullable = true)\n |-- topics: string (nullable = true)\n\n</div>",
       "datasetInfos": [],
       "metadata": {},
       "removedWidgets": [],
       "type": "html"
      }
     },
     "output_type": "display_data"
    }
   ],
   "source": [
    "all_data.printSchema()"
   ]
  },
  {
   "cell_type": "code",
   "execution_count": 0,
   "metadata": {
    "application/vnd.databricks.v1+cell": {
     "inputWidgets": {},
     "nuid": "8e177eb2-dd46-46e4-ba05-5b2156437e8b",
     "showTitle": false,
     "title": ""
    }
   },
   "outputs": [
    {
     "data": {
      "text/html": [
       "<style scoped>\n",
       "  .ansiout {\n",
       "    display: block;\n",
       "    unicode-bidi: embed;\n",
       "    white-space: pre-wrap;\n",
       "    word-wrap: break-word;\n",
       "    word-break: break-all;\n",
       "    font-family: \"Source Code Pro\", \"Menlo\", monospace;;\n",
       "    font-size: 13px;\n",
       "    color: #555;\n",
       "    margin-left: 4px;\n",
       "    line-height: 19px;\n",
       "  }\n",
       "</style>\n",
       "<div class=\"ansiout\">+----------+----------+--------------------+--------------------+--------------------+----------------+--------------------+\n",
       "  paper_id|  doc_type|      original_title|         paper_title|        journal_name|publication_date|              topics|\n",
       "+----------+----------+--------------------+--------------------+--------------------+----------------+--------------------+\n",
       "2932948319|   Journal|Correction to: Su...|correction to sur...|journal of sol ge...|      2019-03-28|carbonation|mater...|\n",
       "2965535896|Conference|Quality-Related F...|quality related f...|                null|      2019-06-01|process control|c...|\n",
       "3024353014|      null|Moho topography a...|moho topography a...|                null|      2013-05-01|geology|seismolog...|\n",
       "3042389860|      null|Controlling Rabie...|controlling rabie...|                null|      2019-10-16|political science...|\n",
       "3124567420|   Journal|The diagnostic va...|the diagnostic va...|comparative haema...|      2021-01-26|st segment|area u...|\n",
       "+----------+----------+--------------------+--------------------+--------------------+----------------+--------------------+\n",
       "only showing top 5 rows\n",
       "\n",
       "</div>"
      ]
     },
     "metadata": {
      "application/vnd.databricks.v1+output": {
       "addedWidgets": {},
       "arguments": {},
       "data": "<div class=\"ansiout\">+----------+----------+--------------------+--------------------+--------------------+----------------+--------------------+\n|  paper_id|  doc_type|      original_title|         paper_title|        journal_name|publication_date|              topics|\n+----------+----------+--------------------+--------------------+--------------------+----------------+--------------------+\n|2932948319|   Journal|Correction to: Su...|correction to sur...|journal of sol ge...|      2019-03-28|carbonation|mater...|\n|2965535896|Conference|Quality-Related F...|quality related f...|                null|      2019-06-01|process control|c...|\n|3024353014|      null|Moho topography a...|moho topography a...|                null|      2013-05-01|geology|seismolog...|\n|3042389860|      null|Controlling Rabie...|controlling rabie...|                null|      2019-10-16|political science...|\n|3124567420|   Journal|The diagnostic va...|the diagnostic va...|comparative haema...|      2021-01-26|st segment|area u...|\n+----------+----------+--------------------+--------------------+--------------------+----------------+--------------------+\nonly showing top 5 rows\n\n</div>",
       "datasetInfos": [],
       "metadata": {},
       "removedWidgets": [],
       "type": "html"
      }
     },
     "output_type": "display_data"
    }
   ],
   "source": [
    "all_data.show(5)"
   ]
  },
  {
   "cell_type": "markdown",
   "metadata": {},
   "source": [
    "#### Since V1 model was tested and found to be successful, the training data date was moved to the right to include more training data. This resulted in a reduction of the test set size."
   ]
  },
  {
   "cell_type": "code",
   "execution_count": 0,
   "metadata": {
    "application/vnd.databricks.v1+cell": {
     "inputWidgets": {},
     "nuid": "62daeb6b-3c89-4b99-bf62-507717315e96",
     "showTitle": false,
     "title": ""
    }
   },
   "outputs": [
    {
     "data": {
      "text/html": [
       "<style scoped>\n",
       "  .ansiout {\n",
       "    display: block;\n",
       "    unicode-bidi: embed;\n",
       "    white-space: pre-wrap;\n",
       "    word-wrap: break-word;\n",
       "    word-break: break-all;\n",
       "    font-family: \"Source Code Pro\", \"Menlo\", monospace;;\n",
       "    font-size: 13px;\n",
       "    color: #555;\n",
       "    margin-left: 4px;\n",
       "    line-height: 19px;\n",
       "  }\n",
       "</style>\n",
       "<div class=\"ansiout\"></div>"
      ]
     },
     "metadata": {
      "application/vnd.databricks.v1+output": {
       "addedWidgets": {},
       "arguments": {},
       "data": "<div class=\"ansiout\"></div>",
       "datasetInfos": [],
       "metadata": {},
       "removedWidgets": [],
       "type": "html"
      }
     },
     "output_type": "display_data"
    }
   ],
   "source": [
    "filtered_data = all_data \\\n",
    ".select('paper_id','doc_type','original_title','paper_title','journal_name',\n",
    "        F.to_date(F.col('publication_date'), 'yyyy-MM-dd').alias('publication_date'), \n",
    "        F.split(F.col('topics'), \"\\|\").alias('topics')) \\\n",
    ".filter(F.col('publication_date') > \"1950-01-01\") \\\n",
    ".filter(F.col('publication_date') < \"2021-08-01\") \\\n",
    ".filter(F.col('doc_type')!='Patent')"
   ]
  },
  {
   "cell_type": "code",
   "execution_count": 0,
   "metadata": {
    "application/vnd.databricks.v1+cell": {
     "inputWidgets": {},
     "nuid": "a0d70532-c173-451a-81c7-77f25113f5cb",
     "showTitle": false,
     "title": ""
    }
   },
   "outputs": [
    {
     "data": {
      "text/html": [
       "<style scoped>\n",
       "  .ansiout {\n",
       "    display: block;\n",
       "    unicode-bidi: embed;\n",
       "    white-space: pre-wrap;\n",
       "    word-wrap: break-word;\n",
       "    word-break: break-all;\n",
       "    font-family: \"Source Code Pro\", \"Menlo\", monospace;;\n",
       "    font-size: 13px;\n",
       "    color: #555;\n",
       "    margin-left: 4px;\n",
       "    line-height: 19px;\n",
       "  }\n",
       "</style>\n",
       "<div class=\"ansiout\"></div>"
      ]
     },
     "metadata": {
      "application/vnd.databricks.v1+output": {
       "addedWidgets": {},
       "arguments": {},
       "data": "<div class=\"ansiout\"></div>",
       "datasetInfos": [],
       "metadata": {},
       "removedWidgets": [],
       "type": "html"
      }
     },
     "output_type": "display_data"
    }
   ],
   "source": [
    "filtered_test_data = all_data \\\n",
    ".select('paper_id','doc_type','original_title','paper_title','journal_name',\n",
    "        F.to_date(F.col('publication_date'), 'yyyy-MM-dd').alias('publication_date'), \n",
    "        F.split(F.col('topics'), \"\\|\").alias('topics'))  \\\n",
    ".filter(F.col('publication_date') >= \"2021-08-01\") \\\n",
    ".filter(F.col('publication_date') < \"2021-12-01\") \\\n",
    ".filter(F.col('doc_type')!='Patent')"
   ]
  },
  {
   "cell_type": "code",
   "execution_count": 0,
   "metadata": {
    "application/vnd.databricks.v1+cell": {
     "inputWidgets": {},
     "nuid": "f91a6f3f-e139-46f4-97d6-c63ee11eb277",
     "showTitle": false,
     "title": ""
    }
   },
   "outputs": [
    {
     "data": {
      "text/html": [
       "<style scoped>\n",
       "  .ansiout {\n",
       "    display: block;\n",
       "    unicode-bidi: embed;\n",
       "    white-space: pre-wrap;\n",
       "    word-wrap: break-word;\n",
       "    word-break: break-all;\n",
       "    font-family: \"Source Code Pro\", \"Menlo\", monospace;;\n",
       "    font-size: 13px;\n",
       "    color: #555;\n",
       "    margin-left: 4px;\n",
       "    line-height: 19px;\n",
       "  }\n",
       "</style>\n",
       "<div class=\"ansiout\">Out[12]: 99629873</div>"
      ]
     },
     "metadata": {
      "application/vnd.databricks.v1+output": {
       "addedWidgets": {},
       "arguments": {},
       "data": "<div class=\"ansiout\">Out[12]: 99629873</div>",
       "datasetInfos": [],
       "metadata": {},
       "removedWidgets": [],
       "type": "html"
      }
     },
     "output_type": "display_data"
    }
   ],
   "source": [
    "filtered_data.cache().count()"
   ]
  },
  {
   "cell_type": "code",
   "execution_count": 0,
   "metadata": {
    "application/vnd.databricks.v1+cell": {
     "inputWidgets": {},
     "nuid": "0966e372-8c12-4685-9741-d2ea1c1ccba0",
     "showTitle": false,
     "title": ""
    }
   },
   "outputs": [
    {
     "data": {
      "text/html": [
       "<style scoped>\n",
       "  .ansiout {\n",
       "    display: block;\n",
       "    unicode-bidi: embed;\n",
       "    white-space: pre-wrap;\n",
       "    word-wrap: break-word;\n",
       "    word-break: break-all;\n",
       "    font-family: \"Source Code Pro\", \"Menlo\", monospace;;\n",
       "    font-size: 13px;\n",
       "    color: #555;\n",
       "    margin-left: 4px;\n",
       "    line-height: 19px;\n",
       "  }\n",
       "</style>\n",
       "<div class=\"ansiout\">Out[13]: 12133</div>"
      ]
     },
     "metadata": {
      "application/vnd.databricks.v1+output": {
       "addedWidgets": {},
       "arguments": {},
       "data": "<div class=\"ansiout\">Out[13]: 12133</div>",
       "datasetInfos": [],
       "metadata": {},
       "removedWidgets": [],
       "type": "html"
      }
     },
     "output_type": "display_data"
    }
   ],
   "source": [
    "filtered_test_data.cache().count()"
   ]
  },
  {
   "cell_type": "markdown",
   "metadata": {
    "application/vnd.databricks.v1+cell": {
     "inputWidgets": {},
     "nuid": "5b989135-00d8-477d-89d4-f6a14704753e",
     "showTitle": false,
     "title": ""
    }
   },
   "source": [
    "### Get Train/Val/Test"
   ]
  },
  {
   "cell_type": "markdown",
   "metadata": {
    "application/vnd.databricks.v1+cell": {
     "inputWidgets": {},
     "nuid": "f7a15771-1601-4fe9-b600-8ad10bfdc577",
     "showTitle": false,
     "title": ""
    }
   },
   "source": [
    "The following cell will only need to be run once"
   ]
  },
  {
   "cell_type": "code",
   "execution_count": 0,
   "metadata": {
    "application/vnd.databricks.v1+cell": {
     "inputWidgets": {},
     "nuid": "afa0ef61-32b9-443b-9741-a60a44d95633",
     "showTitle": false,
     "title": ""
    }
   },
   "outputs": [
    {
     "data": {
      "text/html": [
       "<style scoped>\n",
       "  .ansiout {\n",
       "    display: block;\n",
       "    unicode-bidi: embed;\n",
       "    white-space: pre-wrap;\n",
       "    word-wrap: break-word;\n",
       "    word-break: break-all;\n",
       "    font-family: \"Source Code Pro\", \"Menlo\", monospace;;\n",
       "    font-size: 13px;\n",
       "    color: #555;\n",
       "    margin-left: 4px;\n",
       "    line-height: 19px;\n",
       "  }\n",
       "</style>\n",
       "<div class=\"ansiout\"></div>"
      ]
     },
     "metadata": {
      "application/vnd.databricks.v1+output": {
       "addedWidgets": {},
       "arguments": {},
       "data": "<div class=\"ansiout\"></div>",
       "datasetInfos": [],
       "metadata": {},
       "removedWidgets": [],
       "type": "html"
      }
     },
     "output_type": "display_data"
    }
   ],
   "source": [
    "def split_into_train_val_test(data, test_data, save_path):\n",
    "    train, val, test = data.randomSplit([0.995, 0.0045, 0.0005])\n",
    "    \n",
    "    train.write.mode('overwrite').parquet(f\"{save_path}train\")\n",
    "    \n",
    "    val.write.mode('overwrite').parquet(f\"{save_path}val\")\n",
    "    \n",
    "    test.union(test_data.select(*test.columns)) \\\n",
    "    .write.mode('overwrite').parquet(f\"{save_path}test\")"
   ]
  },
  {
   "cell_type": "code",
   "execution_count": 0,
   "metadata": {
    "application/vnd.databricks.v1+cell": {
     "inputWidgets": {},
     "nuid": "653ef463-92d6-49e2-ac82-bdfcc17ecc02",
     "showTitle": false,
     "title": ""
    }
   },
   "outputs": [
    {
     "data": {
      "text/html": [
       "<style scoped>\n",
       "  .ansiout {\n",
       "    display: block;\n",
       "    unicode-bidi: embed;\n",
       "    white-space: pre-wrap;\n",
       "    word-wrap: break-word;\n",
       "    word-break: break-all;\n",
       "    font-family: \"Source Code Pro\", \"Menlo\", monospace;;\n",
       "    font-size: 13px;\n",
       "    color: #555;\n",
       "    margin-left: 4px;\n",
       "    line-height: 19px;\n",
       "  }\n",
       "</style>\n",
       "<div class=\"ansiout\"></div>"
      ]
     },
     "metadata": {
      "application/vnd.databricks.v1+output": {
       "addedWidgets": {},
       "arguments": {},
       "data": "<div class=\"ansiout\"></div>",
       "datasetInfos": [],
       "metadata": {},
       "removedWidgets": [],
       "type": "html"
      }
     },
     "output_type": "display_data"
    }
   ],
   "source": [
    "split_into_train_val_test(filtered_data, filtered_test_data, base_save_path)"
   ]
  },
  {
   "cell_type": "markdown",
   "metadata": {
    "application/vnd.databricks.v1+cell": {
     "inputWidgets": {},
     "nuid": "cab7361a-a039-49b5-9cb2-13e744046aad",
     "showTitle": false,
     "title": ""
    }
   },
   "source": [
    "### Getting Abstracts"
   ]
  },
  {
   "cell_type": "code",
   "execution_count": 0,
   "metadata": {
    "application/vnd.databricks.v1+cell": {
     "inputWidgets": {},
     "nuid": "2a88c230-784e-4741-824e-0aca02495e5f",
     "showTitle": false,
     "title": ""
    }
   },
   "outputs": [
    {
     "data": {
      "text/html": [
       "<style scoped>\n",
       "  .ansiout {\n",
       "    display: block;\n",
       "    unicode-bidi: embed;\n",
       "    white-space: pre-wrap;\n",
       "    word-wrap: break-word;\n",
       "    word-break: break-all;\n",
       "    font-family: \"Source Code Pro\", \"Menlo\", monospace;;\n",
       "    font-size: 13px;\n",
       "    color: #555;\n",
       "    margin-left: 4px;\n",
       "    line-height: 19px;\n",
       "  }\n",
       "</style>\n",
       "<div class=\"ansiout\"></div>"
      ]
     },
     "metadata": {
      "application/vnd.databricks.v1+output": {
       "addedWidgets": {},
       "arguments": {},
       "data": "<div class=\"ansiout\"></div>",
       "datasetInfos": [],
       "metadata": {},
       "removedWidgets": [],
       "type": "html"
      }
     },
     "output_type": "display_data"
    }
   ],
   "source": [
    "abstract_query = \"\"\"\n",
    "select *\n",
    "from mid.abstract\n",
    "\"\"\""
   ]
  },
  {
   "cell_type": "code",
   "execution_count": 0,
   "metadata": {
    "application/vnd.databricks.v1+cell": {
     "inputWidgets": {},
     "nuid": "327e7aae-fda3-4605-9fee-f719a792a9df",
     "showTitle": false,
     "title": ""
    }
   },
   "outputs": [
    {
     "data": {
      "text/html": [
       "<style scoped>\n",
       "  .ansiout {\n",
       "    display: block;\n",
       "    unicode-bidi: embed;\n",
       "    white-space: pre-wrap;\n",
       "    word-wrap: break-word;\n",
       "    word-break: break-all;\n",
       "    font-family: \"Source Code Pro\", \"Menlo\", monospace;;\n",
       "    font-size: 13px;\n",
       "    color: #555;\n",
       "    margin-left: 4px;\n",
       "    line-height: 19px;\n",
       "  }\n",
       "</style>\n",
       "<div class=\"ansiout\"></div>"
      ]
     },
     "metadata": {
      "application/vnd.databricks.v1+output": {
       "addedWidgets": {},
       "arguments": {},
       "data": "<div class=\"ansiout\"></div>",
       "datasetInfos": [],
       "metadata": {},
       "removedWidgets": [],
       "type": "html"
      }
     },
     "output_type": "display_data"
    }
   ],
   "source": [
    "all_abstracts = spark.read \\\n",
    ".format(\"com.databricks.spark.redshift\") \\\n",
    ".option(\"url\", openalex_redshift_url) \\\n",
    ".option(\"user\", \"app_user\") \\\n",
    ".option(\"password\", redshift_password) \\\n",
    ".option(\"query\", abstract_query) \\\n",
    ".option(\"tempdir\", base_save_path) \\\n",
    ".option(\"forward_spark_s3_credentials\", True) \\\n",
    ".load()"
   ]
  },
  {
   "cell_type": "code",
   "execution_count": 0,
   "metadata": {
    "application/vnd.databricks.v1+cell": {
     "inputWidgets": {},
     "nuid": "f4cdb0d1-a766-43ae-b00e-c09b21b19c7f",
     "showTitle": false,
     "title": ""
    }
   },
   "outputs": [
    {
     "data": {
      "text/html": [
       "<style scoped>\n",
       "  .ansiout {\n",
       "    display: block;\n",
       "    unicode-bidi: embed;\n",
       "    white-space: pre-wrap;\n",
       "    word-wrap: break-word;\n",
       "    word-break: break-all;\n",
       "    font-family: \"Source Code Pro\", \"Menlo\", monospace;;\n",
       "    font-size: 13px;\n",
       "    color: #555;\n",
       "    margin-left: 4px;\n",
       "    line-height: 19px;\n",
       "  }\n",
       "</style>\n",
       "<div class=\"ansiout\"></div>"
      ]
     },
     "metadata": {
      "application/vnd.databricks.v1+output": {
       "addedWidgets": {},
       "arguments": {},
       "data": "<div class=\"ansiout\"></div>",
       "datasetInfos": [],
       "metadata": {},
       "removedWidgets": [],
       "type": "html"
      }
     },
     "output_type": "display_data"
    }
   ],
   "source": [
    "paper_ids = train.select('paper_id').union(val.select('paper_id')).union(test.select('paper_id'))"
   ]
  },
  {
   "cell_type": "code",
   "execution_count": 0,
   "metadata": {
    "application/vnd.databricks.v1+cell": {
     "inputWidgets": {},
     "nuid": "6e16c1b7-02f7-424d-b9f6-c71ad67e72df",
     "showTitle": false,
     "title": ""
    }
   },
   "outputs": [
    {
     "data": {
      "text/html": [
       "<style scoped>\n",
       "  .ansiout {\n",
       "    display: block;\n",
       "    unicode-bidi: embed;\n",
       "    white-space: pre-wrap;\n",
       "    word-wrap: break-word;\n",
       "    word-break: break-all;\n",
       "    font-family: \"Source Code Pro\", \"Menlo\", monospace;;\n",
       "    font-size: 13px;\n",
       "    color: #555;\n",
       "    margin-left: 4px;\n",
       "    line-height: 19px;\n",
       "  }\n",
       "</style>\n",
       "<div class=\"ansiout\"></div>"
      ]
     },
     "metadata": {
      "application/vnd.databricks.v1+output": {
       "addedWidgets": {},
       "arguments": {},
       "data": "<div class=\"ansiout\"></div>",
       "datasetInfos": [],
       "metadata": {},
       "removedWidgets": [],
       "type": "html"
      }
     },
     "output_type": "display_data"
    }
   ],
   "source": [
    "abstracts = paper_ids.join(all_abstracts, on='paper_id')"
   ]
  },
  {
   "cell_type": "code",
   "execution_count": 0,
   "metadata": {
    "application/vnd.databricks.v1+cell": {
     "inputWidgets": {},
     "nuid": "e359f057-4467-4667-8c37-d3b93e63beda",
     "showTitle": false,
     "title": ""
    }
   },
   "outputs": [
    {
     "data": {
      "text/html": [
       "<style scoped>\n",
       "  .ansiout {\n",
       "    display: block;\n",
       "    unicode-bidi: embed;\n",
       "    white-space: pre-wrap;\n",
       "    word-wrap: break-word;\n",
       "    word-break: break-all;\n",
       "    font-family: \"Source Code Pro\", \"Menlo\", monospace;;\n",
       "    font-size: 13px;\n",
       "    color: #555;\n",
       "    margin-left: 4px;\n",
       "    line-height: 19px;\n",
       "  }\n",
       "</style>\n",
       "<div class=\"ansiout\">Out[18]: 69378745</div>"
      ]
     },
     "metadata": {
      "application/vnd.databricks.v1+output": {
       "addedWidgets": {},
       "arguments": {},
       "data": "<div class=\"ansiout\">Out[18]: 69378745</div>",
       "datasetInfos": [],
       "metadata": {},
       "removedWidgets": [],
       "type": "html"
      }
     },
     "output_type": "display_data"
    }
   ],
   "source": [
    "abstracts.cache().count()"
   ]
  },
  {
   "cell_type": "markdown",
   "metadata": {},
   "source": [
    "#### Functions to get abstract length and turn the inverted abstract into a readable text."
   ]
  },
  {
   "cell_type": "code",
   "execution_count": 0,
   "metadata": {
    "application/vnd.databricks.v1+cell": {
     "inputWidgets": {},
     "nuid": "d5647f2f-822e-4e4f-9ce0-e1f39a272260",
     "showTitle": false,
     "title": ""
    }
   },
   "outputs": [],
   "source": [
    "def take_abstract_length_out_(invert_abstract):\n",
    "    invert_abstract = json.loads(invert_abstract)\n",
    "    try:\n",
    "        ab_len = int(invert_abstract['IndexLength'])\n",
    "    except:\n",
    "        ab_len = 0\n",
    "    return ab_len\n",
    "\n",
    "\n",
    "def invert_abstract_to_abstract_(invert_abstract):\n",
    "    invert_abstract = json.loads(invert_abstract)\n",
    "    ab_len = invert_abstract['IndexLength']\n",
    "    \n",
    "    abstract = [\" \"]*ab_len\n",
    "    for key, value in invert_abstract['InvertedIndex'].items():\n",
    "        for i in value:\n",
    "            abstract[i] = key\n",
    "    return \" \".join(abstract)\n",
    "\n",
    "take_abstract_length_out = F.udf(take_abstract_length_out_, IntegerType())\n",
    "invert_abstract_to_abstract = F.udf(invert_abstract_to_abstract_, StringType())"
   ]
  },
  {
   "cell_type": "code",
   "execution_count": 0,
   "metadata": {
    "application/vnd.databricks.v1+cell": {
     "inputWidgets": {},
     "nuid": "d0bdfc64-646c-4afd-ac8c-7b72f147528d",
     "showTitle": false,
     "title": ""
    }
   },
   "outputs": [],
   "source": [
    "# Saving abstracts to S3 to easily load later\n",
    "\n",
    "# Removed abstracts less than 30 (too short, most likely not a good abstract) and greater than \n",
    "# 1000 (small number of papers and won't be using all of the tokens anyways)\n",
    "abstracts \\\n",
    ".withColumn('abstract_length', take_abstract_length_out(F.col('indexed_abstract'))) \\\n",
    ".filter(F.col('abstract_length') < 1000) \\\n",
    ".filter(F.col('abstract_length') > 30) \\\n",
    ".withColumn('abstract', invert_abstract_to_abstract(F.col('indexed_abstract'))) \\\n",
    ".select('paper_id','abstract_length','abstract') \\\n",
    ".write.mode('overwrite').parquet(f\"{base_save_path}MAG_abstracts\")"
   ]
  },
  {
   "cell_type": "markdown",
   "metadata": {
    "application/vnd.databricks.v1+cell": {
     "inputWidgets": {},
     "nuid": "69a36943-de59-4513-b0cb-92d16b4fa6a7",
     "showTitle": false,
     "title": ""
    }
   },
   "source": [
    "#### Loading the Abstracts"
   ]
  },
  {
   "cell_type": "code",
   "execution_count": 0,
   "metadata": {
    "application/vnd.databricks.v1+cell": {
     "inputWidgets": {},
     "nuid": "855cd97b-91f9-41fc-b942-44d3e8bc474f",
     "showTitle": false,
     "title": ""
    }
   },
   "outputs": [
    {
     "data": {
      "text/html": [
       "<style scoped>\n",
       "  .ansiout {\n",
       "    display: block;\n",
       "    unicode-bidi: embed;\n",
       "    white-space: pre-wrap;\n",
       "    word-wrap: break-word;\n",
       "    word-break: break-all;\n",
       "    font-family: \"Source Code Pro\", \"Menlo\", monospace;;\n",
       "    font-size: 13px;\n",
       "    color: #555;\n",
       "    margin-left: 4px;\n",
       "    line-height: 19px;\n",
       "  }\n",
       "</style>\n",
       "<div class=\"ansiout\"></div>"
      ]
     },
     "metadata": {
      "application/vnd.databricks.v1+output": {
       "addedWidgets": {},
       "arguments": {},
       "data": "<div class=\"ansiout\"></div>",
       "datasetInfos": [],
       "metadata": {},
       "removedWidgets": [],
       "type": "html"
      }
     },
     "output_type": "display_data"
    }
   ],
   "source": [
    "abstracts = spark.read.parquet(f\"{base_save_path}MAG_abstracts\") \\\n",
    ".dropDuplicates(subset=['paper_id'])"
   ]
  },
  {
   "cell_type": "code",
   "execution_count": 0,
   "metadata": {
    "application/vnd.databricks.v1+cell": {
     "inputWidgets": {},
     "nuid": "3831b87a-14eb-4203-b3c5-e6f3bfa3a460",
     "showTitle": false,
     "title": ""
    }
   },
   "outputs": [
    {
     "data": {
      "text/html": [
       "<style scoped>\n",
       "  .ansiout {\n",
       "    display: block;\n",
       "    unicode-bidi: embed;\n",
       "    white-space: pre-wrap;\n",
       "    word-wrap: break-word;\n",
       "    word-break: break-all;\n",
       "    font-family: \"Source Code Pro\", \"Menlo\", monospace;;\n",
       "    font-size: 13px;\n",
       "    color: #555;\n",
       "    margin-left: 4px;\n",
       "    line-height: 19px;\n",
       "  }\n",
       "</style>\n",
       "<div class=\"ansiout\">Out[7]: 66120695</div>"
      ]
     },
     "metadata": {
      "application/vnd.databricks.v1+output": {
       "addedWidgets": {},
       "arguments": {},
       "data": "<div class=\"ansiout\">Out[7]: 66120695</div>",
       "datasetInfos": [],
       "metadata": {},
       "removedWidgets": [],
       "type": "html"
      }
     },
     "output_type": "display_data"
    }
   ],
   "source": [
    "abstracts.cache().count()"
   ]
  },
  {
   "cell_type": "markdown",
   "metadata": {
    "application/vnd.databricks.v1+cell": {
     "inputWidgets": {},
     "nuid": "0a332b7d-d9c9-42c3-bce9-77b845971321",
     "showTitle": false,
     "title": ""
    }
   },
   "source": [
    "### Transforming the Data"
   ]
  },
  {
   "cell_type": "markdown",
   "metadata": {},
   "source": [
    "#### Using the same cleaning function on paper titles and abstracts. They will also have the same vocab to be used for getting embeddings."
   ]
  },
  {
   "cell_type": "code",
   "execution_count": 0,
   "metadata": {
    "application/vnd.databricks.v1+cell": {
     "inputWidgets": {},
     "nuid": "8082ee2e-a2ed-4ae8-9637-28d7af135190",
     "showTitle": false,
     "title": ""
    }
   },
   "outputs": [
    {
     "data": {
      "text/html": [
       "<style scoped>\n",
       "  .ansiout {\n",
       "    display: block;\n",
       "    unicode-bidi: embed;\n",
       "    white-space: pre-wrap;\n",
       "    word-wrap: break-word;\n",
       "    word-break: break-all;\n",
       "    font-family: \"Source Code Pro\", \"Menlo\", monospace;;\n",
       "    font-size: 13px;\n",
       "    color: #555;\n",
       "    margin-left: 4px;\n",
       "    line-height: 19px;\n",
       "  }\n",
       "</style>\n",
       "<div class=\"ansiout\"></div>"
      ]
     },
     "metadata": {
      "application/vnd.databricks.v1+output": {
       "addedWidgets": {},
       "arguments": {},
       "data": "<div class=\"ansiout\"></div>",
       "datasetInfos": [],
       "metadata": {},
       "removedWidgets": [],
       "type": "html"
      }
     },
     "output_type": "display_data"
    }
   ],
   "source": [
    "def clean_text_(text):\n",
    "    try:\n",
    "        text = text.lower()\n",
    "\n",
    "        text = re.sub('[^a-zA-Z0-9 ]+', ' ', text)\n",
    "        text = re.sub(' +', ' ', text)\n",
    "        text = text.strip()\n",
    "        \n",
    "    except:\n",
    "        text = \"\"\n",
    "    return text\n",
    "\n",
    "\n",
    "clean_text = F.udf(clean_text_, StringType())"
   ]
  },
  {
   "cell_type": "code",
   "execution_count": 0,
   "metadata": {
    "application/vnd.databricks.v1+cell": {
     "inputWidgets": {},
     "nuid": "8752a0da-705e-4691-afc8-c9be84938b5e",
     "showTitle": false,
     "title": ""
    }
   },
   "outputs": [
    {
     "data": {
      "text/html": [
       "<style scoped>\n",
       "  .ansiout {\n",
       "    display: block;\n",
       "    unicode-bidi: embed;\n",
       "    white-space: pre-wrap;\n",
       "    word-wrap: break-word;\n",
       "    word-break: break-all;\n",
       "    font-family: \"Source Code Pro\", \"Menlo\", monospace;;\n",
       "    font-size: 13px;\n",
       "    color: #555;\n",
       "    margin-left: 4px;\n",
       "    line-height: 19px;\n",
       "  }\n",
       "</style>\n",
       "<div class=\"ansiout\"></div>"
      ]
     },
     "metadata": {
      "application/vnd.databricks.v1+output": {
       "addedWidgets": {},
       "arguments": {},
       "data": "<div class=\"ansiout\"></div>",
       "datasetInfos": [],
       "metadata": {},
       "removedWidgets": [],
       "type": "html"
      }
     },
     "output_type": "display_data"
    }
   ],
   "source": [
    "train = spark.read.parquet(f\"{base_save_path}train\") \\\n",
    "    .join(abstracts, how='left', on='paper_id') \\\n",
    "    .withColumn(\"clean_title\", clean_text(F.col('original_title'))) \\\n",
    "    .withColumn(\"clean_abstract\", clean_text(F.col('abstract')))\n",
    "\n",
    "val = spark.read.parquet(f\"{base_save_path}val\") \\\n",
    "    .join(abstracts, how='left', on='paper_id') \\\n",
    "    .withColumn(\"clean_title\", clean_text(F.col('original_title'))) \\\n",
    "    .withColumn(\"clean_abstract\", clean_text(F.col('abstract')))\n",
    "\n",
    "test = spark.read.parquet(f\"{base_save_path}test\") \\\n",
    "    .join(abstracts, how='left', on='paper_id') \\\n",
    "    .withColumn(\"clean_title\", clean_text(F.col('original_title'))) \\\n",
    "    .withColumn(\"clean_abstract\", clean_text(F.col('abstract')))"
   ]
  },
  {
   "cell_type": "code",
   "execution_count": 0,
   "metadata": {
    "application/vnd.databricks.v1+cell": {
     "inputWidgets": {},
     "nuid": "4db49de2-2231-4ff1-a01f-f7c3ce49b1ef",
     "showTitle": false,
     "title": ""
    }
   },
   "outputs": [
    {
     "data": {
      "text/html": [
       "<style scoped>\n",
       "  .ansiout {\n",
       "    display: block;\n",
       "    unicode-bidi: embed;\n",
       "    white-space: pre-wrap;\n",
       "    word-wrap: break-word;\n",
       "    word-break: break-all;\n",
       "    font-family: \"Source Code Pro\", \"Menlo\", monospace;;\n",
       "    font-size: 13px;\n",
       "    color: #555;\n",
       "    margin-left: 4px;\n",
       "    line-height: 19px;\n",
       "  }\n",
       "</style>\n",
       "<div class=\"ansiout\">Out[9]: 99131530</div>"
      ]
     },
     "metadata": {
      "application/vnd.databricks.v1+output": {
       "addedWidgets": {},
       "arguments": {},
       "data": "<div class=\"ansiout\">Out[9]: 99131530</div>",
       "datasetInfos": [],
       "metadata": {},
       "removedWidgets": [],
       "type": "html"
      }
     },
     "output_type": "display_data"
    }
   ],
   "source": [
    "train.cache().count()"
   ]
  },
  {
   "cell_type": "code",
   "execution_count": 0,
   "metadata": {
    "application/vnd.databricks.v1+cell": {
     "inputWidgets": {},
     "nuid": "955613b4-1c27-45d8-ba68-a9a0793f6c05",
     "showTitle": false,
     "title": ""
    }
   },
   "outputs": [
    {
     "data": {
      "text/html": [
       "<style scoped>\n",
       "  .ansiout {\n",
       "    display: block;\n",
       "    unicode-bidi: embed;\n",
       "    white-space: pre-wrap;\n",
       "    word-wrap: break-word;\n",
       "    word-break: break-all;\n",
       "    font-family: \"Source Code Pro\", \"Menlo\", monospace;;\n",
       "    font-size: 13px;\n",
       "    color: #555;\n",
       "    margin-left: 4px;\n",
       "    line-height: 19px;\n",
       "  }\n",
       "</style>\n",
       "<div class=\"ansiout\">Out[16]: 447952</div>"
      ]
     },
     "metadata": {
      "application/vnd.databricks.v1+output": {
       "addedWidgets": {},
       "arguments": {},
       "data": "<div class=\"ansiout\">Out[16]: 447952</div>",
       "datasetInfos": [],
       "metadata": {},
       "removedWidgets": [],
       "type": "html"
      }
     },
     "output_type": "display_data"
    }
   ],
   "source": [
    "val.cache().count()"
   ]
  },
  {
   "cell_type": "code",
   "execution_count": 0,
   "metadata": {
    "application/vnd.databricks.v1+cell": {
     "inputWidgets": {},
     "nuid": "4473e4d1-e734-43a9-838b-58d72784d052",
     "showTitle": false,
     "title": ""
    }
   },
   "outputs": [
    {
     "data": {
      "text/html": [
       "<style scoped>\n",
       "  .ansiout {\n",
       "    display: block;\n",
       "    unicode-bidi: embed;\n",
       "    white-space: pre-wrap;\n",
       "    word-wrap: break-word;\n",
       "    word-break: break-all;\n",
       "    font-family: \"Source Code Pro\", \"Menlo\", monospace;;\n",
       "    font-size: 13px;\n",
       "    color: #555;\n",
       "    margin-left: 4px;\n",
       "    line-height: 19px;\n",
       "  }\n",
       "</style>\n",
       "<div class=\"ansiout\">Out[8]: 62524</div>"
      ]
     },
     "metadata": {
      "application/vnd.databricks.v1+output": {
       "addedWidgets": {},
       "arguments": {},
       "data": "<div class=\"ansiout\">Out[8]: 62524</div>",
       "datasetInfos": [],
       "metadata": {},
       "removedWidgets": [],
       "type": "html"
      }
     },
     "output_type": "display_data"
    }
   ],
   "source": [
    "test.cache().count()"
   ]
  },
  {
   "cell_type": "code",
   "execution_count": 0,
   "metadata": {
    "application/vnd.databricks.v1+cell": {
     "inputWidgets": {},
     "nuid": "2e74f452-8730-4cb7-8806-1c3cb1657ea7",
     "showTitle": false,
     "title": ""
    }
   },
   "outputs": [
    {
     "data": {
      "text/html": [
       "<style scoped>\n",
       "  .ansiout {\n",
       "    display: block;\n",
       "    unicode-bidi: embed;\n",
       "    white-space: pre-wrap;\n",
       "    word-wrap: break-word;\n",
       "    word-break: break-all;\n",
       "    font-family: \"Source Code Pro\", \"Menlo\", monospace;;\n",
       "    font-size: 13px;\n",
       "    color: #555;\n",
       "    margin-left: 4px;\n",
       "    line-height: 19px;\n",
       "  }\n",
       "</style>\n",
       "<div class=\"ansiout\">+-------+-----------------+\n",
       "summary|  paper_title_len|\n",
       "+-------+-----------------+\n",
       "  count|         99131530|\n",
       "   mean|12.31370134204526|\n",
       " stddev|5.727253723116372|\n",
       "    min|                1|\n",
       "    max|              125|\n",
       "+-------+-----------------+\n",
       "\n",
       "</div>"
      ]
     },
     "metadata": {
      "application/vnd.databricks.v1+output": {
       "addedWidgets": {},
       "arguments": {},
       "data": "<div class=\"ansiout\">+-------+-----------------+\n|summary|  paper_title_len|\n+-------+-----------------+\n|  count|         99131530|\n|   mean|12.31370134204526|\n| stddev|5.727253723116372|\n|    min|                1|\n|    max|              125|\n+-------+-----------------+\n\n</div>",
       "datasetInfos": [],
       "metadata": {},
       "removedWidgets": [],
       "type": "html"
      }
     },
     "output_type": "display_data"
    }
   ],
   "source": [
    "train.select(F.split(F.col('clean_title'), \" \").alias('words')) \\\n",
    ".withColumn(\"paper_title_len\", F.size(F.col('words'))) \\\n",
    ".select(\"paper_title_len\").describe().show()"
   ]
  },
  {
   "cell_type": "code",
   "execution_count": 0,
   "metadata": {
    "application/vnd.databricks.v1+cell": {
     "inputWidgets": {},
     "nuid": "00ad674a-cde3-4fd4-8a67-29d330c2f412",
     "showTitle": false,
     "title": ""
    }
   },
   "outputs": [
    {
     "data": {
      "text/html": [
       "<style scoped>\n",
       "  .ansiout {\n",
       "    display: block;\n",
       "    unicode-bidi: embed;\n",
       "    white-space: pre-wrap;\n",
       "    word-wrap: break-word;\n",
       "    word-break: break-all;\n",
       "    font-family: \"Source Code Pro\", \"Menlo\", monospace;;\n",
       "    font-size: 13px;\n",
       "    color: #555;\n",
       "    margin-left: 4px;\n",
       "    line-height: 19px;\n",
       "  }\n",
       "</style>\n",
       "<div class=\"ansiout\">+-------+------------------+\n",
       "summary|   paper_title_len|\n",
       "+-------+------------------+\n",
       "  count|          98497575|\n",
       "   mean|12.139659621061737|\n",
       " stddev|5.2861065144301635|\n",
       "    min|                 1|\n",
       "    max|                32|\n",
       "+-------+------------------+\n",
       "\n",
       "</div>"
      ]
     },
     "metadata": {
      "application/vnd.databricks.v1+output": {
       "addedWidgets": {},
       "arguments": {},
       "data": "<div class=\"ansiout\">+-------+------------------+\n|summary|   paper_title_len|\n+-------+------------------+\n|  count|          98497575|\n|   mean|12.139659621061737|\n| stddev|5.2861065144301635|\n|    min|                 1|\n|    max|                32|\n+-------+------------------+\n\n</div>",
       "datasetInfos": [],
       "metadata": {},
       "removedWidgets": [],
       "type": "html"
      }
     },
     "output_type": "display_data"
    }
   ],
   "source": [
    "train.select(F.split(F.col('clean_title'), \" \").alias('words')) \\\n",
    ".withColumn(\"paper_title_len\", F.size(F.col('words'))) \\\n",
    ".select(\"paper_title_len\").filter(F.col('paper_title_len') <=32).describe().show()"
   ]
  },
  {
   "cell_type": "code",
   "execution_count": 0,
   "metadata": {
    "application/vnd.databricks.v1+cell": {
     "inputWidgets": {},
     "nuid": "749678fd-49d2-4a18-b658-9e352bd3dc9c",
     "showTitle": false,
     "title": ""
    }
   },
   "outputs": [
    {
     "data": {
      "text/html": [
       "<style scoped>\n",
       "  .ansiout {\n",
       "    display: block;\n",
       "    unicode-bidi: embed;\n",
       "    white-space: pre-wrap;\n",
       "    word-wrap: break-word;\n",
       "    word-break: break-all;\n",
       "    font-family: \"Source Code Pro\", \"Menlo\", monospace;;\n",
       "    font-size: 13px;\n",
       "    color: #555;\n",
       "    margin-left: 4px;\n",
       "    line-height: 19px;\n",
       "  }\n",
       "</style>\n",
       "<div class=\"ansiout\">+-------+------------------+\n",
       "summary|      size(topics)|\n",
       "+-------+------------------+\n",
       "  count|          99131530|\n",
       "   mean| 8.024817563090169|\n",
       " stddev|3.0226164199430636|\n",
       "    min|                 1|\n",
       "    max|                15|\n",
       "+-------+------------------+\n",
       "\n",
       "</div>"
      ]
     },
     "metadata": {
      "application/vnd.databricks.v1+output": {
       "addedWidgets": {},
       "arguments": {},
       "data": "<div class=\"ansiout\">+-------+------------------+\n|summary|      size(topics)|\n+-------+------------------+\n|  count|          99131530|\n|   mean| 8.024817563090169|\n| stddev|3.0226164199430636|\n|    min|                 1|\n|    max|                15|\n+-------+------------------+\n\n</div>",
       "datasetInfos": [],
       "metadata": {},
       "removedWidgets": [],
       "type": "html"
      }
     },
     "output_type": "display_data"
    }
   ],
   "source": [
    "train.select(F.size(F.col('topics'))).describe().show()"
   ]
  },
  {
   "cell_type": "code",
   "execution_count": 0,
   "metadata": {
    "application/vnd.databricks.v1+cell": {
     "inputWidgets": {},
     "nuid": "3ebfe846-c947-4e8b-927a-f3b75fa7b451",
     "showTitle": false,
     "title": ""
    }
   },
   "outputs": [
    {
     "data": {
      "text/html": [
       "<style scoped>\n",
       "  .ansiout {\n",
       "    display: block;\n",
       "    unicode-bidi: embed;\n",
       "    white-space: pre-wrap;\n",
       "    word-wrap: break-word;\n",
       "    word-break: break-all;\n",
       "    font-family: \"Source Code Pro\", \"Menlo\", monospace;;\n",
       "    font-size: 13px;\n",
       "    color: #555;\n",
       "    margin-left: 4px;\n",
       "    line-height: 19px;\n",
       "  }\n",
       "</style>\n",
       "<div class=\"ansiout\"></div>"
      ]
     },
     "metadata": {
      "application/vnd.databricks.v1+output": {
       "addedWidgets": {},
       "arguments": {},
       "data": "<div class=\"ansiout\"></div>",
       "datasetInfos": [],
       "metadata": {},
       "removedWidgets": [],
       "type": "html"
      }
     },
     "output_type": "display_data"
    }
   ],
   "source": [
    "word_counts = train.select(F.split(F.col('clean_title'), \" \").alias('words')) \\\n",
    ".union(train.select(F.split(F.col('clean_abstract'), \" \").alias('words'))) \\\n",
    ".withColumn(\"word\", F.explode(F.col('words'))) \\\n",
    ".groupBy('word').count().toPandas()"
   ]
  },
  {
   "cell_type": "code",
   "execution_count": 0,
   "metadata": {
    "application/vnd.databricks.v1+cell": {
     "inputWidgets": {},
     "nuid": "7d902984-b800-4fca-a590-674e75b7b5a3",
     "showTitle": false,
     "title": ""
    }
   },
   "outputs": [
    {
     "data": {
      "text/html": [
       "<style scoped>\n",
       "  .ansiout {\n",
       "    display: block;\n",
       "    unicode-bidi: embed;\n",
       "    white-space: pre-wrap;\n",
       "    word-wrap: break-word;\n",
       "    word-break: break-all;\n",
       "    font-family: \"Source Code Pro\", \"Menlo\", monospace;;\n",
       "    font-size: 13px;\n",
       "    color: #555;\n",
       "    margin-left: 4px;\n",
       "    line-height: 19px;\n",
       "  }\n",
       "</style>\n",
       "<div class=\"ansiout\">Out[29]: (18582887, 2)</div>"
      ]
     },
     "metadata": {
      "application/vnd.databricks.v1+output": {
       "addedWidgets": {},
       "arguments": {},
       "data": "<div class=\"ansiout\">Out[29]: (18582887, 2)</div>",
       "datasetInfos": [],
       "metadata": {},
       "removedWidgets": [],
       "type": "html"
      }
     },
     "output_type": "display_data"
    }
   ],
   "source": [
    "word_counts.shape"
   ]
  },
  {
   "cell_type": "code",
   "execution_count": 0,
   "metadata": {
    "application/vnd.databricks.v1+cell": {
     "inputWidgets": {},
     "nuid": "94446497-768a-47fa-83ff-1fa29a910be8",
     "showTitle": false,
     "title": ""
    }
   },
   "outputs": [
    {
     "data": {
      "text/html": [
       "<style scoped>\n",
       "  .ansiout {\n",
       "    display: block;\n",
       "    unicode-bidi: embed;\n",
       "    white-space: pre-wrap;\n",
       "    word-wrap: break-word;\n",
       "    word-break: break-all;\n",
       "    font-family: \"Source Code Pro\", \"Menlo\", monospace;;\n",
       "    font-size: 13px;\n",
       "    color: #555;\n",
       "    margin-left: 4px;\n",
       "    line-height: 19px;\n",
       "  }\n",
       "</style>\n",
       "<div class=\"ansiout\"></div>"
      ]
     },
     "metadata": {
      "application/vnd.databricks.v1+output": {
       "addedWidgets": {},
       "arguments": {},
       "data": "<div class=\"ansiout\"></div>",
       "datasetInfos": [],
       "metadata": {},
       "removedWidgets": [],
       "type": "html"
      }
     },
     "output_type": "display_data"
    }
   ],
   "source": [
    "counts = []\n",
    "for i in range(1,1000):\n",
    "    counts.append(word_counts[word_counts['count']>=i].shape[0])"
   ]
  },
  {
   "cell_type": "code",
   "execution_count": 0,
   "metadata": {
    "application/vnd.databricks.v1+cell": {
     "inputWidgets": {},
     "nuid": "9c112403-07e9-4f85-a333-b9e5c32742a1",
     "showTitle": false,
     "title": ""
    }
   },
   "outputs": [
    {
     "data": {
      "text/html": [
       "<style scoped>\n",
       "  .ansiout {\n",
       "    display: block;\n",
       "    unicode-bidi: embed;\n",
       "    white-space: pre-wrap;\n",
       "    word-wrap: break-word;\n",
       "    word-break: break-all;\n",
       "    font-family: \"Source Code Pro\", \"Menlo\", monospace;;\n",
       "    font-size: 13px;\n",
       "    color: #555;\n",
       "    margin-left: 4px;\n",
       "    line-height: 19px;\n",
       "  }\n",
       "</style>\n",
       "<div class=\"ansiout\">Out[30]: </div>"
      ]
     },
     "metadata": {
      "application/vnd.databricks.v1+output": {
       "addedWidgets": {},
       "arguments": {},
       "data": "<div class=\"ansiout\">Out[30]: </div>",
       "datasetInfos": [],
       "metadata": {},
       "removedWidgets": [],
       "type": "html"
      }
     },
     "output_type": "display_data"
    },
    {
     "data": {
      "image/png": "[encoded data removed]"
     },
     "metadata": {
      "application/vnd.databricks.v1+output": {
       "addedWidgets": {},
       "arguments": {},
       "data": "data:image/png;base64,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",
       "datasetInfos": [],
       "metadata": {
        "imageDimensions": {
         "height": 259,
         "width": 378
        }
       },
       "removedWidgets": [],
       "type": "image"
      },
      "image/png": {
       "height": 259,
       "width": 378
      }
     },
     "output_type": "display_data"
    },
    {
     "data": {
      "text/html": [
       "<style scoped>\n",
       "  .ansiout {\n",
       "    display: block;\n",
       "    unicode-bidi: embed;\n",
       "    white-space: pre-wrap;\n",
       "    word-wrap: break-word;\n",
       "    word-break: break-all;\n",
       "    font-family: \"Source Code Pro\", \"Menlo\", monospace;;\n",
       "    font-size: 13px;\n",
       "    color: #555;\n",
       "    margin-left: 4px;\n",
       "    line-height: 19px;\n",
       "  }\n",
       "</style>\n",
       "<div class=\"ansiout\">[&lt;matplotlib.lines.Line2D at 0x7f5d70f0b520&gt;]</div>"
      ]
     },
     "metadata": {
      "application/vnd.databricks.v1+output": {
       "addedWidgets": {},
       "arguments": {},
       "data": "<div class=\"ansiout\">[&lt;matplotlib.lines.Line2D at 0x7f5d70f0b520&gt;]</div>",
       "datasetInfos": [],
       "metadata": {},
       "removedWidgets": [],
       "type": "html"
      }
     },
     "output_type": "display_data"
    }
   ],
   "source": [
    "plt.plot(list(range(1,1000)), counts)"
   ]
  },
  {
   "cell_type": "code",
   "execution_count": 0,
   "metadata": {
    "application/vnd.databricks.v1+cell": {
     "inputWidgets": {},
     "nuid": "ceae065e-6c30-4f27-b667-8211975d1142",
     "showTitle": false,
     "title": ""
    }
   },
   "outputs": [
    {
     "data": {
      "text/html": [
       "<style scoped>\n",
       "  .ansiout {\n",
       "    display: block;\n",
       "    unicode-bidi: embed;\n",
       "    white-space: pre-wrap;\n",
       "    word-wrap: break-word;\n",
       "    word-break: break-all;\n",
       "    font-family: \"Source Code Pro\", \"Menlo\", monospace;;\n",
       "    font-size: 13px;\n",
       "    color: #555;\n",
       "    margin-left: 4px;\n",
       "    line-height: 19px;\n",
       "  }\n",
       "</style>\n",
       "<div class=\"ansiout\">Out[46]: 282996</div>"
      ]
     },
     "metadata": {
      "application/vnd.databricks.v1+output": {
       "addedWidgets": {},
       "arguments": {},
       "data": "<div class=\"ansiout\">Out[46]: 282996</div>",
       "datasetInfos": [],
       "metadata": {},
       "removedWidgets": [],
       "type": "html"
      }
     },
     "output_type": "display_data"
    }
   ],
   "source": [
    "word_counts[word_counts['count']>=300].shape[0]"
   ]
  },
  {
   "cell_type": "markdown",
   "metadata": {
    "application/vnd.databricks.v1+cell": {
     "inputWidgets": {},
     "nuid": "611d0360-dbcf-4379-8555-8adf7c034f2f",
     "showTitle": false,
     "title": ""
    }
   },
   "source": [
    "### Raw Test Data For Model Analysis"
   ]
  },
  {
   "cell_type": "code",
   "execution_count": 0,
   "metadata": {
    "application/vnd.databricks.v1+cell": {
     "inputWidgets": {},
     "nuid": "adeaf96f-9940-4c21-82f0-0ee74512c100",
     "showTitle": false,
     "title": ""
    }
   },
   "outputs": [
    {
     "data": {
      "text/html": [
       "<style scoped>\n",
       "  .ansiout {\n",
       "    display: block;\n",
       "    unicode-bidi: embed;\n",
       "    white-space: pre-wrap;\n",
       "    word-wrap: break-word;\n",
       "    word-break: break-all;\n",
       "    font-family: \"Source Code Pro\", \"Menlo\", monospace;;\n",
       "    font-size: 13px;\n",
       "    color: #555;\n",
       "    margin-left: 4px;\n",
       "    line-height: 19px;\n",
       "  }\n",
       "</style>\n",
       "<div class=\"ansiout\">+--------+-----------+--------------------+--------------------+------------+----------------+--------------------+---------------+--------------------+--------------------+--------------------+\n",
       "paper_id|   doc_type|      original_title|         paper_title|journal_name|publication_date|              topics|abstract_length|            abstract|         clean_title|      clean_abstract|\n",
       "+--------+-----------+--------------------+--------------------+------------+----------------+--------------------+---------------+--------------------+--------------------+--------------------+\n",
       "18863665|BookChapter|A Graph Theoretic...|a graph theoretic...|        null|      2011-01-01|[complex network,...|             96|The recently deve...|a graph theoretic...|the recently deve...|\n",
       "+--------+-----------+--------------------+--------------------+------------+----------------+--------------------+---------------+--------------------+--------------------+--------------------+\n",
       "only showing top 1 row\n",
       "\n",
       "</div>"
      ]
     },
     "metadata": {
      "application/vnd.databricks.v1+output": {
       "addedWidgets": {},
       "arguments": {},
       "data": "<div class=\"ansiout\">+--------+-----------+--------------------+--------------------+------------+----------------+--------------------+---------------+--------------------+--------------------+--------------------+\n|paper_id|   doc_type|      original_title|         paper_title|journal_name|publication_date|              topics|abstract_length|            abstract|         clean_title|      clean_abstract|\n+--------+-----------+--------------------+--------------------+------------+----------------+--------------------+---------------+--------------------+--------------------+--------------------+\n|18863665|BookChapter|A Graph Theoretic...|a graph theoretic...|        null|      2011-01-01|[complex network,...|             96|The recently deve...|a graph theoretic...|the recently deve...|\n+--------+-----------+--------------------+--------------------+------------+----------------+--------------------+---------------+--------------------+--------------------+--------------------+\nonly showing top 1 row\n\n</div>",
       "datasetInfos": [],
       "metadata": {},
       "removedWidgets": [],
       "type": "html"
      }
     },
     "output_type": "display_data"
    }
   ],
   "source": [
    "test.show(1)"
   ]
  },
  {
   "cell_type": "code",
   "execution_count": 0,
   "metadata": {
    "application/vnd.databricks.v1+cell": {
     "inputWidgets": {},
     "nuid": "78ed4090-187a-45e8-9bb7-dd11ad01729a",
     "showTitle": false,
     "title": ""
    }
   },
   "outputs": [
    {
     "data": {
      "text/html": [
       "<style scoped>\n",
       "  .ansiout {\n",
       "    display: block;\n",
       "    unicode-bidi: embed;\n",
       "    white-space: pre-wrap;\n",
       "    word-wrap: break-word;\n",
       "    word-break: break-all;\n",
       "    font-family: \"Source Code Pro\", \"Menlo\", monospace;;\n",
       "    font-size: 13px;\n",
       "    color: #555;\n",
       "    margin-left: 4px;\n",
       "    line-height: 19px;\n",
       "  }\n",
       "</style>\n",
       "<div class=\"ansiout\"></div>"
      ]
     },
     "metadata": {
      "application/vnd.databricks.v1+output": {
       "addedWidgets": {},
       "arguments": {},
       "data": "<div class=\"ansiout\"></div>",
       "datasetInfos": [],
       "metadata": {},
       "removedWidgets": [],
       "type": "html"
      }
     },
     "output_type": "display_data"
    }
   ],
   "source": [
    "test.select('paper_id','doc_type','original_title','clean_title','journal_name','abstract_length',\n",
    "            'abstract','clean_abstract','topics','publication_date') \\\n",
    ".coalesce(1).write.mode(\"overwrite\").parquet(\"s3://mag-model-data/V2/raw_test_data\")"
   ]
  },
  {
   "cell_type": "code",
   "execution_count": 0,
   "metadata": {
    "application/vnd.databricks.v1+cell": {
     "inputWidgets": {},
     "nuid": "394a93fe-8243-4753-beb4-04808ec4059e",
     "showTitle": false,
     "title": ""
    }
   },
   "outputs": [],
   "source": []
  },
  {
   "cell_type": "code",
   "execution_count": 0,
   "metadata": {
    "application/vnd.databricks.v1+cell": {
     "inputWidgets": {},
     "nuid": "b28ed01b-2df0-4e51-adfd-f0bd107ffdad",
     "showTitle": false,
     "title": ""
    }
   },
   "outputs": [],
   "source": []
  },
  {
   "cell_type": "markdown",
   "metadata": {
    "application/vnd.databricks.v1+cell": {
     "inputWidgets": {},
     "nuid": "c42c1faf-7e79-4f85-b38f-43425618c543",
     "showTitle": false,
     "title": ""
    }
   },
   "source": [
    "### Loading Fields of Study in Use in OpenAlex"
   ]
  },
  {
   "cell_type": "markdown",
   "metadata": {},
   "source": [
    "#### Only fields that were seen in 500 papers (in MAG, patents removed) as well as have a wiki ID. This list included some manual searching."
   ]
  },
  {
   "cell_type": "code",
   "execution_count": 0,
   "metadata": {
    "application/vnd.databricks.v1+cell": {
     "inputWidgets": {},
     "nuid": "57415a4a-9511-4cac-9e13-dc6feb43fc6a",
     "showTitle": false,
     "title": ""
    }
   },
   "outputs": [
    {
     "data": {
      "text/html": [
       "<style scoped>\n",
       "  .ansiout {\n",
       "    display: block;\n",
       "    unicode-bidi: embed;\n",
       "    white-space: pre-wrap;\n",
       "    word-wrap: break-word;\n",
       "    word-break: break-all;\n",
       "    font-family: \"Source Code Pro\", \"Menlo\", monospace;;\n",
       "    font-size: 13px;\n",
       "    color: #555;\n",
       "    margin-left: 4px;\n",
       "    line-height: 19px;\n",
       "  }\n",
       "</style>\n",
       "<div class=\"ansiout\"></div>"
      ]
     },
     "metadata": {
      "application/vnd.databricks.v1+output": {
       "addedWidgets": {},
       "arguments": {},
       "data": "<div class=\"ansiout\"></div>",
       "datasetInfos": [],
       "metadata": {},
       "removedWidgets": [],
       "type": "html"
      }
     },
     "output_type": "display_data"
    }
   ],
   "source": [
    "fields_to_use = spark.read.csv(\"s3://mag-model-data/V2/concepts_with_wiki.csv\", header=True) \\\n",
    ".select('normalized_name')"
   ]
  },
  {
   "cell_type": "code",
   "execution_count": 0,
   "metadata": {
    "application/vnd.databricks.v1+cell": {
     "inputWidgets": {},
     "nuid": "5b42df2b-47aa-44a7-aa89-ca854ef3ced2",
     "showTitle": false,
     "title": ""
    }
   },
   "outputs": [
    {
     "data": {
      "text/html": [
       "<style scoped>\n",
       "  .ansiout {\n",
       "    display: block;\n",
       "    unicode-bidi: embed;\n",
       "    white-space: pre-wrap;\n",
       "    word-wrap: break-word;\n",
       "    word-break: break-all;\n",
       "    font-family: \"Source Code Pro\", \"Menlo\", monospace;;\n",
       "    font-size: 13px;\n",
       "    color: #555;\n",
       "    margin-left: 4px;\n",
       "    line-height: 19px;\n",
       "  }\n",
       "</style>\n",
       "<div class=\"ansiout\">Out[38]: 65073</div>"
      ]
     },
     "metadata": {
      "application/vnd.databricks.v1+output": {
       "addedWidgets": {},
       "arguments": {},
       "data": "<div class=\"ansiout\">Out[38]: 65073</div>",
       "datasetInfos": [],
       "metadata": {},
       "removedWidgets": [],
       "type": "html"
      }
     },
     "output_type": "display_data"
    }
   ],
   "source": [
    "fields_to_use.cache().count()"
   ]
  },
  {
   "cell_type": "code",
   "execution_count": 0,
   "metadata": {
    "application/vnd.databricks.v1+cell": {
     "inputWidgets": {},
     "nuid": "ca5e9d9b-a1f9-42ad-93f6-77817f6fa927",
     "showTitle": false,
     "title": ""
    }
   },
   "outputs": [
    {
     "data": {
      "text/html": [
       "<style scoped>\n",
       "  .ansiout {\n",
       "    display: block;\n",
       "    unicode-bidi: embed;\n",
       "    white-space: pre-wrap;\n",
       "    word-wrap: break-word;\n",
       "    word-break: break-all;\n",
       "    font-family: \"Source Code Pro\", \"Menlo\", monospace;;\n",
       "    font-size: 13px;\n",
       "    color: #555;\n",
       "    margin-left: 4px;\n",
       "    line-height: 19px;\n",
       "  }\n",
       "</style>\n",
       "<div class=\"ansiout\">+-----------------+\n",
       "  normalized_name|\n",
       "+-----------------+\n",
       "political science|\n",
       "       philosophy|\n",
       "        economics|\n",
       "         business|\n",
       "       psychology|\n",
       "      mathematics|\n",
       "         medicine|\n",
       "          biology|\n",
       " computer science|\n",
       "          geology|\n",
       "+-----------------+\n",
       "only showing top 10 rows\n",
       "\n",
       "</div>"
      ]
     },
     "metadata": {
      "application/vnd.databricks.v1+output": {
       "addedWidgets": {},
       "arguments": {},
       "data": "<div class=\"ansiout\">+-----------------+\n|  normalized_name|\n+-----------------+\n|political science|\n|       philosophy|\n|        economics|\n|         business|\n|       psychology|\n|      mathematics|\n|         medicine|\n|          biology|\n| computer science|\n|          geology|\n+-----------------+\nonly showing top 10 rows\n\n</div>",
       "datasetInfos": [],
       "metadata": {},
       "removedWidgets": [],
       "type": "html"
      }
     },
     "output_type": "display_data"
    }
   ],
   "source": [
    "fields_to_use.show(10)"
   ]
  },
  {
   "cell_type": "markdown",
   "metadata": {
    "application/vnd.databricks.v1+cell": {
     "inputWidgets": {},
     "nuid": "386ca0a4-0074-45d4-a510-d848f1136449",
     "showTitle": false,
     "title": ""
    }
   },
   "source": [
    "### Vocab"
   ]
  },
  {
   "cell_type": "code",
   "execution_count": 0,
   "metadata": {
    "application/vnd.databricks.v1+cell": {
     "inputWidgets": {},
     "nuid": "8a87ac82-684a-4602-9d55-b37aea7a22bc",
     "showTitle": false,
     "title": ""
    }
   },
   "outputs": [
    {
     "data": {
      "text/html": [
       "<style scoped>\n",
       "  .ansiout {\n",
       "    display: block;\n",
       "    unicode-bidi: embed;\n",
       "    white-space: pre-wrap;\n",
       "    word-wrap: break-word;\n",
       "    word-break: break-all;\n",
       "    font-family: \"Source Code Pro\", \"Menlo\", monospace;;\n",
       "    font-size: 13px;\n",
       "    color: #555;\n",
       "    margin-left: 4px;\n",
       "    line-height: 19px;\n",
       "  }\n",
       "</style>\n",
       "<div class=\"ansiout\"></div>"
      ]
     },
     "metadata": {
      "application/vnd.databricks.v1+output": {
       "addedWidgets": {},
       "arguments": {},
       "data": "<div class=\"ansiout\"></div>",
       "datasetInfos": [],
       "metadata": {},
       "removedWidgets": [],
       "type": "html"
      }
     },
     "output_type": "display_data"
    }
   ],
   "source": [
    "def get_value_counts_for_column(data, col_name):\n",
    "    if col_name == 'topics':\n",
    "        counts_df = data.select(F.explode(F.col(col_name)).alias(col_name)).na.drop().groupBy(col_name).count() \\\n",
    "        .orderBy('count', ascending=False) \\\n",
    "        .join(fields_to_use.select(F.col('normalized_name').alias(col_name)), on=col_name)\n",
    "    else:\n",
    "        counts_df = data.select('paper_id', col_name).na.drop().groupBy(col_name).count() \\\n",
    "        .orderBy('count', ascending=False)\n",
    "    return counts_df.toPandas()\n",
    "\n",
    "\n",
    "def create_vocab(data, save_path, col_name, cutoff=5, unk_token=True, none_token=True, val_count_df=None):\n",
    "    \n",
    "    try:\n",
    "        val_counts = val_count_df.copy()\n",
    "    except:\n",
    "        val_counts = get_value_counts_for_column(data, col_name)\n",
    "    \n",
    "    val_counts.columns = [f\"{col_name}_token\", \"count\"]\n",
    "    \n",
    "    final_vocab_df = val_counts[val_counts['count'] >= cutoff].copy()\n",
    "    \n",
    "    if unk_token & none_token:\n",
    "        token_list = [\"[UNK]\"] + [\"[NONE]\"] + list(final_vocab_df[f\"{col_name}_token\"])\n",
    "    elif unk_token:\n",
    "        token_list = [\"[UNK]\"] + list(final_vocab_df[f\"{col_name}_token\"])\n",
    "    elif none_token:\n",
    "        token_list = [\"[NONE]\"] + list(final_vocab_df[f\"{col_name}_token\"])\n",
    "    else:\n",
    "        token_list = list(final_vocab_df[f\"{col_name}_token\"])\n",
    "        \n",
    "    index_list = list(range(1, len(token_list)+1))\n",
    "    \n",
    "    final_vocab = dict(zip(token_list, index_list))\n",
    "    \n",
    "    client = boto3.client('s3')\n",
    "    \n",
    "    bucket_name = save_path.split(\"/\")[2]\n",
    "    vocab_key = f\"{'/'.join(save_path.split('/')[-3:])}vocab/{col_name}_vocab.pkl\"\n",
    "    _ = client.put_object(Body=pickle.dumps(final_vocab), Bucket=bucket_name, Key=vocab_key)\n",
    "    \n",
    "    return final_vocab"
   ]
  },
  {
   "cell_type": "code",
   "execution_count": 0,
   "metadata": {
    "application/vnd.databricks.v1+cell": {
     "inputWidgets": {},
     "nuid": "0a2d890f-cbec-470c-a2ba-80444d036b71",
     "showTitle": false,
     "title": ""
    }
   },
   "outputs": [
    {
     "data": {
      "text/html": [
       "<style scoped>\n",
       "  .ansiout {\n",
       "    display: block;\n",
       "    unicode-bidi: embed;\n",
       "    white-space: pre-wrap;\n",
       "    word-wrap: break-word;\n",
       "    word-break: break-all;\n",
       "    font-family: \"Source Code Pro\", \"Menlo\", monospace;;\n",
       "    font-size: 13px;\n",
       "    color: #555;\n",
       "    margin-left: 4px;\n",
       "    line-height: 19px;\n",
       "  }\n",
       "</style>\n",
       "<div class=\"ansiout\"></div>"
      ]
     },
     "metadata": {
      "application/vnd.databricks.v1+output": {
       "addedWidgets": {},
       "arguments": {},
       "data": "<div class=\"ansiout\"></div>",
       "datasetInfos": [],
       "metadata": {},
       "removedWidgets": [],
       "type": "html"
      }
     },
     "output_type": "display_data"
    }
   ],
   "source": [
    "def transform_dataset(data, save_path, dataset_type='train', val_count_df=None, doc_type_cutoff=300000, journal_cutoff=50, \n",
    "                      topic_cutoff=100, title_cutoff=100):\n",
    "    if dataset_type=='train':\n",
    "        print(\"Getting vocabs\")\n",
    "        doc_vocab = create_vocab(data, save_path, \"doc_type\", cutoff=doc_type_cutoff, unk_token=True, none_token=True)\n",
    "        journal_vocab = create_vocab(data, save_path, \"journal_name\", cutoff=journal_cutoff, unk_token=True, none_token=True)\n",
    "        target_vocab = create_vocab(data, save_path, \"topics\", cutoff=topic_cutoff, unk_token=False, none_token=False)\n",
    "        title_vocab = create_vocab(data, save_path, \"paper_title\", cutoff=title_cutoff, unk_token=True, none_token=True, val_count_df=val_count_df)\n",
    "    else:\n",
    "        print(\"Loading vocabs\")\n",
    "        client = boto3.client('s3')\n",
    "        bucket_name = save_path.split(\"/\")[2]\n",
    "        doc_vocab_key = f\"{save_path.split('/')[-2]}/vocab/doc_type_vocab.pkl\"\n",
    "        doc_vocab = pickle.loads(client.get_object(Bucket=bucket_name, Key=doc_vocab_key)['Body'].read())\n",
    "        journal_vocab_key = f\"{save_path.split('/')[-2]}/vocab/journal_name_vocab.pkl\"\n",
    "        journal_vocab = pickle.loads(client.get_object(Bucket=bucket_name, Key=journal_vocab_key)['Body'].read())\n",
    "        target_vocab_key = f\"{save_path.split('/')[-2]}/vocab/topics_vocab.pkl\"\n",
    "        target_vocab = pickle.loads(client.get_object(Bucket=bucket_name, Key=target_vocab_key)['Body'].read())\n",
    "        title_vocab_key = f\"{save_path.split('/')[-2]}/vocab/paper_title_vocab.pkl\"\n",
    "        title_vocab = pickle.loads(client.get_object(Bucket=bucket_name, Key=title_vocab_key)['Body'].read())\n",
    "    \n",
    "    print(f\"Doc type vocab length: {len(doc_vocab)}\")\n",
    "    print(f\"Journal vocab length: {len(journal_vocab)}\")\n",
    "    print(f\"Target vocab length: {len(target_vocab)}\")\n",
    "    print(f\"Paper title vocab length: {len(title_vocab)}\")\n",
    "    \n",
    "    def tokenize_target(feature):\n",
    "        token_feature = []\n",
    "        for part in feature:\n",
    "            try:\n",
    "                token_feature.append(target_vocab[part])\n",
    "            except:\n",
    "                pass\n",
    "        if not token_feature:\n",
    "            token_feature = [-1]\n",
    "        return token_feature\n",
    "    \n",
    "    def tokenize_feature(feature, feature_name='doc_type'):\n",
    "        if feature_name=='doc_type':\n",
    "            vocab = doc_vocab\n",
    "        else:\n",
    "            vocab = journal_vocab\n",
    "        unk_token_id = vocab.get('[UNK]')\n",
    "        none_token_id = vocab.get('[NONE]')\n",
    "        if feature:\n",
    "            token_feature = [vocab.get(feature, unk_token_id)]\n",
    "        else:\n",
    "            token_feature = [none_token_id]\n",
    "        return token_feature\n",
    "    \n",
    "    def tokenize_title(feature):\n",
    "        split_feature = feature.split(\" \")\n",
    "        vocab = title_vocab\n",
    "        unk_token_id = vocab.get('[UNK]')\n",
    "        none_token_id = vocab.get('[NONE]')\n",
    "        if feature:\n",
    "            token_feature = [vocab.get(x, unk_token_id) for x in split_feature]\n",
    "        else:\n",
    "            token_feature = [none_token_id]\n",
    "        return token_feature\n",
    "\n",
    "    tokenize_title_udf = F.udf(tokenize_title, ArrayType(IntegerType()))\n",
    "    tokenize_target_udf = F.udf(tokenize_target, ArrayType(IntegerType()))\n",
    "    tokenize_feature_udf = F.udf(tokenize_feature, ArrayType(IntegerType()))\n",
    "    \n",
    "    print(\"Tokenizing data\")\n",
    "    final_data = data \\\n",
    "    .withColumn(\"doc_type_tok\", tokenize_feature_udf(F.col('doc_type'), F.lit('doc_type'))) \\\n",
    "    .withColumn(\"journal_tok\", tokenize_feature_udf(F.col('journal_name'), F.lit('journal_name'))) \\\n",
    "    .withColumn(\"target_tok\", tokenize_target_udf(F.col('topics'))) \\\n",
    "    .withColumn(\"paper_title_tok\", tokenize_title_udf(F.col('clean_title'))) \\\n",
    "    .withColumn(\"abstract_tok\", tokenize_title_udf(F.col('clean_abstract')))\n",
    "    \n",
    "    print(\"Saving data\")\n",
    "    if dataset_type == 'train':\n",
    "        coalesce_num = 100\n",
    "    elif dataset_type == 'val':\n",
    "        coalesce_num = 10\n",
    "    else:\n",
    "        coalesce_num = 5\n",
    "    final_data.select('paper_id',\n",
    "                      'publication_date',\n",
    "                      'doc_type_tok',\n",
    "                      'journal_tok',\n",
    "                      'target_tok',\n",
    "                      'paper_title_tok',\n",
    "                      'abstract_tok') \\\n",
    "    .coalesce(coalesce_num).write.mode('overwrite').parquet(f\"{save_path}tokenized_data/{dataset_type}\")\n",
    "    "
   ]
  },
  {
   "cell_type": "code",
   "execution_count": 0,
   "metadata": {
    "application/vnd.databricks.v1+cell": {
     "inputWidgets": {},
     "nuid": "ccb99f09-f0b9-416c-8bd3-17c116ed9901",
     "showTitle": false,
     "title": ""
    }
   },
   "outputs": [
    {
     "data": {
      "text/html": [
       "<style scoped>\n",
       "  .ansiout {\n",
       "    display: block;\n",
       "    unicode-bidi: embed;\n",
       "    white-space: pre-wrap;\n",
       "    word-wrap: break-word;\n",
       "    word-break: break-all;\n",
       "    font-family: \"Source Code Pro\", \"Menlo\", monospace;;\n",
       "    font-size: 13px;\n",
       "    color: #555;\n",
       "    margin-left: 4px;\n",
       "    line-height: 19px;\n",
       "  }\n",
       "</style>\n",
       "<div class=\"ansiout\">Getting vocabs\n",
       "Doc type vocab length: 8\n",
       "Journal vocab length: 44963\n",
       "Target vocab length: 65026\n",
       "Paper title vocab length: 282998\n",
       "Tokenizing data\n",
       "Saving data\n",
       "</div>"
      ]
     },
     "metadata": {
      "application/vnd.databricks.v1+output": {
       "addedWidgets": {},
       "arguments": {},
       "data": "<div class=\"ansiout\">Getting vocabs\nDoc type vocab length: 8\nJournal vocab length: 44963\nTarget vocab length: 65026\nPaper title vocab length: 282998\nTokenizing data\nSaving data\n</div>",
       "datasetInfos": [],
       "metadata": {},
       "removedWidgets": [],
       "type": "html"
      }
     },
     "output_type": "display_data"
    }
   ],
   "source": [
    "transform_dataset(train, iteration_save_path, 'train', val_count_df=word_counts, doc_type_cutoff=300000, journal_cutoff=50, \n",
    "                      topic_cutoff=500, title_cutoff=300)"
   ]
  },
  {
   "cell_type": "code",
   "execution_count": 0,
   "metadata": {
    "application/vnd.databricks.v1+cell": {
     "inputWidgets": {},
     "nuid": "0d9c6026-0e63-48b8-a876-660ee3a2d8c1",
     "showTitle": false,
     "title": ""
    }
   },
   "outputs": [
    {
     "data": {
      "text/html": [
       "<style scoped>\n",
       "  .ansiout {\n",
       "    display: block;\n",
       "    unicode-bidi: embed;\n",
       "    white-space: pre-wrap;\n",
       "    word-wrap: break-word;\n",
       "    word-break: break-all;\n",
       "    font-family: \"Source Code Pro\", \"Menlo\", monospace;;\n",
       "    font-size: 13px;\n",
       "    color: #555;\n",
       "    margin-left: 4px;\n",
       "    line-height: 19px;\n",
       "  }\n",
       "</style>\n",
       "<div class=\"ansiout\">Loading vocabs\n",
       "Doc type vocab length: 8\n",
       "Journal vocab length: 44963\n",
       "Target vocab length: 65026\n",
       "Paper title vocab length: 282998\n",
       "Tokenizing data\n",
       "Saving data\n",
       "</div>"
      ]
     },
     "metadata": {
      "application/vnd.databricks.v1+output": {
       "addedWidgets": {},
       "arguments": {},
       "data": "<div class=\"ansiout\">Loading vocabs\nDoc type vocab length: 8\nJournal vocab length: 44963\nTarget vocab length: 65026\nPaper title vocab length: 282998\nTokenizing data\nSaving data\n</div>",
       "datasetInfos": [],
       "metadata": {},
       "removedWidgets": [],
       "type": "html"
      }
     },
     "output_type": "display_data"
    }
   ],
   "source": [
    "transform_dataset(val, iteration_save_path, 'val')"
   ]
  },
  {
   "cell_type": "code",
   "execution_count": 0,
   "metadata": {
    "application/vnd.databricks.v1+cell": {
     "inputWidgets": {},
     "nuid": "651b92b6-5a2e-49e0-a2a7-1eacbbe7fb26",
     "showTitle": false,
     "title": ""
    }
   },
   "outputs": [
    {
     "data": {
      "text/html": [
       "<style scoped>\n",
       "  .ansiout {\n",
       "    display: block;\n",
       "    unicode-bidi: embed;\n",
       "    white-space: pre-wrap;\n",
       "    word-wrap: break-word;\n",
       "    word-break: break-all;\n",
       "    font-family: \"Source Code Pro\", \"Menlo\", monospace;;\n",
       "    font-size: 13px;\n",
       "    color: #555;\n",
       "    margin-left: 4px;\n",
       "    line-height: 19px;\n",
       "  }\n",
       "</style>\n",
       "<div class=\"ansiout\">Loading vocabs\n",
       "Doc type vocab length: 8\n",
       "Journal vocab length: 44963\n",
       "Target vocab length: 65026\n",
       "Paper title vocab length: 282998\n",
       "Tokenizing data\n",
       "Saving data\n",
       "</div>"
      ]
     },
     "metadata": {
      "application/vnd.databricks.v1+output": {
       "addedWidgets": {},
       "arguments": {},
       "data": "<div class=\"ansiout\">Loading vocabs\nDoc type vocab length: 8\nJournal vocab length: 44963\nTarget vocab length: 65026\nPaper title vocab length: 282998\nTokenizing data\nSaving data\n</div>",
       "datasetInfos": [],
       "metadata": {},
       "removedWidgets": [],
       "type": "html"
      }
     },
     "output_type": "display_data"
    }
   ],
   "source": [
    "transform_dataset(test, iteration_save_path, 'test')"
   ]
  },
  {
   "cell_type": "markdown",
   "metadata": {
    "application/vnd.databricks.v1+cell": {
     "inputWidgets": {},
     "nuid": "9d4e041d-4f4e-444d-9725-6d1d7ecfd5aa",
     "showTitle": false,
     "title": ""
    }
   },
   "source": [
    "## Get data into TFRecords (Use Local Machine or EC2)"
   ]
  }
 ],
 "metadata": {
  "application/vnd.databricks.v1+notebook": {
   "dashboards": [],
   "language": "python",
   "notebookMetadata": {
    "pythonIndentUnit": 4
   },
   "notebookName": "mag_data_create_V2_spark",
   "notebookOrigID": 4449963226115812,
   "widgets": {}
  },
  "kernelspec": {
   "display_name": "Python 3 (ipykernel)",
   "language": "python",
   "name": "python3"
  },
  "language_info": {
   "codemirror_mode": {
    "name": "ipython",
    "version": 3
   },
   "file_extension": ".py",
   "mimetype": "text/x-python",
   "name": "python",
   "nbconvert_exporter": "python",
   "pygments_lexer": "ipython3",
   "version": "3.8.11"
  }
 },
 "nbformat": 4,
 "nbformat_minor": 1
}

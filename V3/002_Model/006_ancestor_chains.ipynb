{
 "cells": [
  {
   "cell_type": "code",
   "execution_count": 9,
   "id": "a4b596f8",
   "metadata": {},
   "outputs": [],
   "source": [
    "import os\n",
    "import re\n",
    "import json\n",
    "import psycopg2\n",
    "import pickle\n",
    "import pandas as pd\n",
    "import numpy as np"
   ]
  },
  {
   "cell_type": "markdown",
   "id": "00e61a01",
   "metadata": {},
   "source": [
    "#### Getting concept parents"
   ]
  },
  {
   "cell_type": "code",
   "execution_count": 8,
   "id": "c7a964fd",
   "metadata": {},
   "outputs": [],
   "source": [
    "def replace_id_with_pred(ids, ):\n",
    "    if isinstance(ids, list):\n",
    "        return [y for y in [tag_id_vocab_inv.get(x, \" \") for x in ids] if y!=\" \"]\n",
    "    else:\n",
    "        return tag_id_vocab_inv.get(ids, \"\")"
   ]
  },
  {
   "cell_type": "code",
   "execution_count": 9,
   "id": "df36534a",
   "metadata": {},
   "outputs": [],
   "source": [
    "def get_correct_levels(ids, levels):\n",
    "    return [x for x,y in zip(levels,ids) if tag_id_vocab_inv.get(y)]"
   ]
  },
  {
   "cell_type": "code",
   "execution_count": 10,
   "id": "c6ddf3de",
   "metadata": {},
   "outputs": [],
   "source": [
    "conn = ## DB connection"
   ]
  },
  {
   "cell_type": "code",
   "execution_count": 11,
   "id": "18a65f7f",
   "metadata": {},
   "outputs": [],
   "source": [
    "cursor = conn.cursor()"
   ]
  },
  {
   "cell_type": "code",
   "execution_count": 14,
   "id": "7aa23788",
   "metadata": {},
   "outputs": [
    {
     "name": "stdout",
     "output_type": "stream",
     "text": [
      "(65026, 7)\n"
     ]
    },
    {
     "data": {
      "text/html": [
       "<div>\n",
       "<style scoped>\n",
       "    .dataframe tbody tr th:only-of-type {\n",
       "        vertical-align: middle;\n",
       "    }\n",
       "\n",
       "    .dataframe tbody tr th {\n",
       "        vertical-align: top;\n",
       "    }\n",
       "\n",
       "    .dataframe thead th {\n",
       "        text-align: right;\n",
       "    }\n",
       "</style>\n",
       "<table border=\"1\" class=\"dataframe\">\n",
       "  <thead>\n",
       "    <tr style=\"text-align: right;\">\n",
       "      <th></th>\n",
       "      <th>openalex_id</th>\n",
       "      <th>display_name</th>\n",
       "      <th>normalized_name</th>\n",
       "      <th>level</th>\n",
       "      <th>wikidata_id</th>\n",
       "      <th>parent_display_names</th>\n",
       "      <th>parent_ids</th>\n",
       "      <th>child_id</th>\n",
       "    </tr>\n",
       "  </thead>\n",
       "  <tbody>\n",
       "    <tr>\n",
       "      <th>24411</th>\n",
       "      <td>https://openalex.org/c67503058</td>\n",
       "      <td>Antisymmetric tensor</td>\n",
       "      <td>antisymmetric tensor</td>\n",
       "      <td>3</td>\n",
       "      <td>https://www.wikidata.org/wiki/Q1325769</td>\n",
       "      <td>Gauge theory</td>\n",
       "      <td>https://openalex.org/C181830111</td>\n",
       "      <td>67503058</td>\n",
       "    </tr>\n",
       "  </tbody>\n",
       "</table>\n",
       "</div>"
      ],
      "text/plain": [
       "                          openalex_id          display_name  \\\n",
       "24411  https://openalex.org/c67503058  Antisymmetric tensor   \n",
       "\n",
       "            normalized_name  level                             wikidata_id  \\\n",
       "24411  antisymmetric tensor      3  https://www.wikidata.org/wiki/Q1325769   \n",
       "\n",
       "      parent_display_names                       parent_ids  child_id  \n",
       "24411         Gauge theory  https://openalex.org/C181830111  67503058  "
      ]
     },
     "execution_count": 14,
     "metadata": {},
     "output_type": "execute_result"
    }
   ],
   "source": [
    "current_tags = ## concepts table from OpenAlex snapshot\n",
    "print(current_tags.shape)\n",
    "current_tags['child_id'] = current_tags['openalex_id'].apply(lambda x: x.split(\"/\")[-1][1:]).astype('int')\n",
    "current_tags.sample()"
   ]
  },
  {
   "cell_type": "code",
   "execution_count": 15,
   "id": "826d4913",
   "metadata": {},
   "outputs": [],
   "source": [
    "concept_ancestors = pd.read_csv(\"concept-ancestors.csv\")"
   ]
  },
  {
   "cell_type": "code",
   "execution_count": 30,
   "id": "afd63e57",
   "metadata": {},
   "outputs": [],
   "source": [
    "concept_ancestors[\"ancestor_name\"] = concept_ancestors[\"ancestor_name\"].apply(lambda x: str(x).lower())"
   ]
  },
  {
   "cell_type": "code",
   "execution_count": 31,
   "id": "81353db3",
   "metadata": {},
   "outputs": [
    {
     "data": {
      "text/html": [
       "<div>\n",
       "<style scoped>\n",
       "    .dataframe tbody tr th:only-of-type {\n",
       "        vertical-align: middle;\n",
       "    }\n",
       "\n",
       "    .dataframe tbody tr th {\n",
       "        vertical-align: top;\n",
       "    }\n",
       "\n",
       "    .dataframe thead th {\n",
       "        text-align: right;\n",
       "    }\n",
       "</style>\n",
       "<table border=\"1\" class=\"dataframe\">\n",
       "  <thead>\n",
       "    <tr style=\"text-align: right;\">\n",
       "      <th></th>\n",
       "      <th>id</th>\n",
       "      <th>name</th>\n",
       "      <th>level</th>\n",
       "      <th>ancestor_id</th>\n",
       "      <th>ancestor_name</th>\n",
       "      <th>ancestor_level</th>\n",
       "    </tr>\n",
       "  </thead>\n",
       "  <tbody>\n",
       "    <tr>\n",
       "      <th>239943</th>\n",
       "      <td>2780553850</td>\n",
       "      <td>Alphaherpesvirinae</td>\n",
       "      <td>5</td>\n",
       "      <td>86803240</td>\n",
       "      <td>biology</td>\n",
       "      <td>0</td>\n",
       "    </tr>\n",
       "    <tr>\n",
       "      <th>134624</th>\n",
       "      <td>29906990</td>\n",
       "      <td>Frameshift mutation</td>\n",
       "      <td>4</td>\n",
       "      <td>127716648</td>\n",
       "      <td>phenotype</td>\n",
       "      <td>3</td>\n",
       "    </tr>\n",
       "    <tr>\n",
       "      <th>110037</th>\n",
       "      <td>53728453</td>\n",
       "      <td>STX1A</td>\n",
       "      <td>5</td>\n",
       "      <td>148785051</td>\n",
       "      <td>synaptic vesicle</td>\n",
       "      <td>4</td>\n",
       "    </tr>\n",
       "    <tr>\n",
       "      <th>172006</th>\n",
       "      <td>555894677</td>\n",
       "      <td>Lanthanum</td>\n",
       "      <td>2</td>\n",
       "      <td>185592680</td>\n",
       "      <td>chemistry</td>\n",
       "      <td>0</td>\n",
       "    </tr>\n",
       "    <tr>\n",
       "      <th>373410</th>\n",
       "      <td>38506071</td>\n",
       "      <td>Freivalds' algorithm</td>\n",
       "      <td>5</td>\n",
       "      <td>33923547</td>\n",
       "      <td>mathematics</td>\n",
       "      <td>0</td>\n",
       "    </tr>\n",
       "  </tbody>\n",
       "</table>\n",
       "</div>"
      ],
      "text/plain": [
       "                id                  name  level  ancestor_id  \\\n",
       "239943  2780553850    Alphaherpesvirinae      5     86803240   \n",
       "134624    29906990   Frameshift mutation      4    127716648   \n",
       "110037    53728453                 STX1A      5    148785051   \n",
       "172006   555894677             Lanthanum      2    185592680   \n",
       "373410    38506071  Freivalds' algorithm      5     33923547   \n",
       "\n",
       "           ancestor_name  ancestor_level  \n",
       "239943           biology               0  \n",
       "134624         phenotype               3  \n",
       "110037  synaptic vesicle               4  \n",
       "172006         chemistry               0  \n",
       "373410       mathematics               0  "
      ]
     },
     "execution_count": 31,
     "metadata": {},
     "output_type": "execute_result"
    }
   ],
   "source": [
    "concept_ancestors.sample(5)"
   ]
  },
  {
   "cell_type": "code",
   "execution_count": 17,
   "id": "2d149e2a",
   "metadata": {},
   "outputs": [],
   "source": [
    "query = \\\n",
    "\"\"\"select field_of_study_id as id, normalized_name as child_name\n",
    "   from mid.concept \n",
    "   where wikidata_id is not null\"\"\""
   ]
  },
  {
   "cell_type": "code",
   "execution_count": 18,
   "id": "660eb410",
   "metadata": {},
   "outputs": [],
   "source": [
    "cursor.execute(\"ROLLBACK;\")\n",
    "cursor.execute(query)\n",
    "tables = pd.DataFrame(cursor.fetchall(), columns = [desc[0] for desc in cursor.description])"
   ]
  },
  {
   "cell_type": "code",
   "execution_count": 19,
   "id": "091587c6",
   "metadata": {},
   "outputs": [
    {
     "data": {
      "text/plain": [
       "(65073, 2)"
      ]
     },
     "execution_count": 19,
     "metadata": {},
     "output_type": "execute_result"
    }
   ],
   "source": [
    "tables.dropna().shape"
   ]
  },
  {
   "cell_type": "markdown",
   "id": "0248b61c",
   "metadata": {},
   "source": [
    "#### This is code to get the 'ancestor chains' used in the V3 model"
   ]
  },
  {
   "cell_type": "code",
   "execution_count": 32,
   "id": "b668308b",
   "metadata": {},
   "outputs": [],
   "source": [
    "childs_with_ancestors = tables.merge(concept_ancestors, how='inner', on='id').rename(columns={'id':'child_id'}) \\\n",
    "[['child_id','child_name','level','ancestor_id','ancestor_name','ancestor_level']]\n",
    "childs_with_ancestors = childs_with_ancestors[(childs_with_ancestors['child_id'].isin(current_tags['child_id'].tolist())) \n",
    "                                              & (childs_with_ancestors['ancestor_id'].isin(current_tags['child_id'].tolist()))].copy()\n",
    "only_parents = childs_with_ancestors[childs_with_ancestors['level'] == \n",
    "                                     childs_with_ancestors['ancestor_level']+1] \\\n",
    "[['child_id','ancestor_id','ancestor_name','ancestor_level']].copy()"
   ]
  },
  {
   "cell_type": "code",
   "execution_count": 33,
   "id": "3a627a45",
   "metadata": {},
   "outputs": [],
   "source": [
    "fully_expanded_hierarchy = childs_with_ancestors.drop_duplicates('child_id') \\\n",
    "[['child_id','child_name','level']] \\\n",
    ".merge(only_parents.rename(columns={'ancestor_id':'ancestor_id_1', \n",
    "                                    'ancestor_level':'ancestor_level_1',\n",
    "                                    'ancestor_name': 'ancestor_name_1'}), \n",
    "                            how='left', on='child_id') \\\n",
    ".merge(only_parents.rename(columns={'ancestor_id':'ancestor_id_2', \n",
    "                                    'ancestor_level':'ancestor_level_2',\n",
    "                                    'ancestor_name': 'ancestor_name_2',\n",
    "                                    'child_id':'ancestor_id_1'}), \n",
    "                            how='left', on='ancestor_id_1') \\\n",
    ".merge(only_parents.rename(columns={'ancestor_id':'ancestor_id_3', \n",
    "                                    'ancestor_level':'ancestor_level_3',\n",
    "                                    'ancestor_name': 'ancestor_name_3',\n",
    "                                    'child_id':'ancestor_id_2'}), \n",
    "                            how='left', on='ancestor_id_2') \\\n",
    ".merge(only_parents.rename(columns={'ancestor_id':'ancestor_id_4', \n",
    "                                    'ancestor_level':'ancestor_level_4',\n",
    "                                    'ancestor_name': 'ancestor_name_4',\n",
    "                                    'child_id':'ancestor_id_3'}), \n",
    "                            how='left', on='ancestor_id_3') \\\n",
    ".merge(only_parents.rename(columns={'ancestor_id':'ancestor_id_5', \n",
    "                                    'ancestor_level':'ancestor_level_5',\n",
    "                                    'ancestor_name': 'ancestor_name_5',\n",
    "                                    'child_id':'ancestor_id_4'}), \n",
    "                            how='left', on='ancestor_id_4')"
   ]
  },
  {
   "cell_type": "code",
   "execution_count": 34,
   "id": "070a9655",
   "metadata": {},
   "outputs": [],
   "source": [
    "def get_hierarchy_row_list(level, anc_1, anc_2, anc_3, anc_4, anc_5):\n",
    "    if isinstance(anc_1, str):\n",
    "        if level == 5:\n",
    "            return [anc_1, anc_2, anc_3, anc_4, anc_5]\n",
    "        elif level == 4:\n",
    "            return [anc_1, anc_2, anc_3, anc_4]\n",
    "        elif level == 3:\n",
    "            return [anc_1, anc_2, anc_3]\n",
    "        elif level == 2:\n",
    "            return [anc_1, anc_2]\n",
    "        elif level == 1:\n",
    "            return [anc_1]\n",
    "        else:\n",
    "            return []\n",
    "    else:\n",
    "        if level == 5:\n",
    "            return [int(anc_1), int(anc_2), int(anc_3), int(anc_4), int(anc_5)]\n",
    "        elif level == 4:\n",
    "            return [int(anc_1), int(anc_2), int(anc_3), int(anc_4)]\n",
    "        elif level == 3:\n",
    "            return [int(anc_1), int(anc_2), int(anc_3)]\n",
    "        elif level == 2:\n",
    "            return [int(anc_1), int(anc_2)]\n",
    "        elif level == 1:\n",
    "            return [int(anc_1)]\n",
    "        else:\n",
    "            return []"
   ]
  },
  {
   "cell_type": "code",
   "execution_count": 35,
   "id": "6ebd311f",
   "metadata": {},
   "outputs": [],
   "source": [
    "fully_expanded_hierarchy['anc_names_chain'] = \\\n",
    "    fully_expanded_hierarchy.apply(lambda x: get_hierarchy_row_list(x.level,\n",
    "                                                                    x.ancestor_name_1, \n",
    "                                                                    x.ancestor_name_2, \n",
    "                                                                    x.ancestor_name_3, \n",
    "                                                                    x.ancestor_name_4, \n",
    "                                                                    x.ancestor_name_5), axis=1)\n",
    "fully_expanded_hierarchy['anc_id_chain'] = \\\n",
    "    fully_expanded_hierarchy.apply(lambda x: get_hierarchy_row_list(x.level,\n",
    "                                                                    x.ancestor_id_1, \n",
    "                                                                    x.ancestor_id_2, \n",
    "                                                                    x.ancestor_id_3, \n",
    "                                                                    x.ancestor_id_4, \n",
    "                                                                    x.ancestor_id_5), axis=1)"
   ]
  },
  {
   "cell_type": "code",
   "execution_count": 36,
   "id": "ca6ccdb3",
   "metadata": {},
   "outputs": [],
   "source": [
    "fully_expanded_hierarchy['anc_pred_id_chain'] = \\\n",
    "    fully_expanded_hierarchy['anc_id_chain'].apply(lambda x: [tag_id_vocab_inv[i] for i in x])"
   ]
  },
  {
   "cell_type": "code",
   "execution_count": 37,
   "id": "ecb71236",
   "metadata": {},
   "outputs": [],
   "source": [
    "fully_expanded_hierarchy['pred_id'] = \\\n",
    "    fully_expanded_hierarchy['child_id'].apply(lambda x: tag_id_vocab_inv[x])"
   ]
  },
  {
   "cell_type": "code",
   "execution_count": 38,
   "id": "2c2952f0",
   "metadata": {},
   "outputs": [],
   "source": [
    "table_for_saving = fully_expanded_hierarchy[['pred_id','level','anc_names_chain',\n",
    "                                             'anc_pred_id_chain']].groupby(['pred_id',\n",
    "                                                                            'level']).agg(list).reset_index()"
   ]
  },
  {
   "cell_type": "code",
   "execution_count": 39,
   "id": "946b0380",
   "metadata": {},
   "outputs": [
    {
     "data": {
      "text/html": [
       "<div>\n",
       "<style scoped>\n",
       "    .dataframe tbody tr th:only-of-type {\n",
       "        vertical-align: middle;\n",
       "    }\n",
       "\n",
       "    .dataframe tbody tr th {\n",
       "        vertical-align: top;\n",
       "    }\n",
       "\n",
       "    .dataframe thead th {\n",
       "        text-align: right;\n",
       "    }\n",
       "</style>\n",
       "<table border=\"1\" class=\"dataframe\">\n",
       "  <thead>\n",
       "    <tr style=\"text-align: right;\">\n",
       "      <th></th>\n",
       "      <th>pred_id</th>\n",
       "      <th>level</th>\n",
       "      <th>anc_names_chain</th>\n",
       "      <th>anc_pred_id_chain</th>\n",
       "    </tr>\n",
       "  </thead>\n",
       "  <tbody>\n",
       "    <tr>\n",
       "      <th>46998</th>\n",
       "      <td>47015</td>\n",
       "      <td>4</td>\n",
       "      <td>[[energy intensity, efficient energy use, elec...</td>\n",
       "      <td>[[56409, 1035, 22008, 52408], [56409, 1035, 39...</td>\n",
       "    </tr>\n",
       "    <tr>\n",
       "      <th>38134</th>\n",
       "      <td>38149</td>\n",
       "      <td>5</td>\n",
       "      <td>[[enterprise systems engineering, enterprise a...</td>\n",
       "      <td>[[25578, 1372, 46201, 34874, 1], [25578, 1372,...</td>\n",
       "    </tr>\n",
       "    <tr>\n",
       "      <th>63117</th>\n",
       "      <td>63137</td>\n",
       "      <td>2</td>\n",
       "      <td>[[thermodynamics, physics]]</td>\n",
       "      <td>[[11868, 60518]]</td>\n",
       "    </tr>\n",
       "    <tr>\n",
       "      <th>9426</th>\n",
       "      <td>9433</td>\n",
       "      <td>3</td>\n",
       "      <td>[[aqueous solution, physical chemistry, chemis...</td>\n",
       "      <td>[[61811, 38795, 677], [61811, 31978, 677]]</td>\n",
       "    </tr>\n",
       "    <tr>\n",
       "      <th>58352</th>\n",
       "      <td>58371</td>\n",
       "      <td>3</td>\n",
       "      <td>[[optical fiber, optics, physics], [optical fi...</td>\n",
       "      <td>[[7666, 38456, 60518], [7666, 53058, 2356], [7...</td>\n",
       "    </tr>\n",
       "  </tbody>\n",
       "</table>\n",
       "</div>"
      ],
      "text/plain": [
       "       pred_id  level                                    anc_names_chain  \\\n",
       "46998    47015      4  [[energy intensity, efficient energy use, elec...   \n",
       "38134    38149      5  [[enterprise systems engineering, enterprise a...   \n",
       "63117    63137      2                        [[thermodynamics, physics]]   \n",
       "9426      9433      3  [[aqueous solution, physical chemistry, chemis...   \n",
       "58352    58371      3  [[optical fiber, optics, physics], [optical fi...   \n",
       "\n",
       "                                       anc_pred_id_chain  \n",
       "46998  [[56409, 1035, 22008, 52408], [56409, 1035, 39...  \n",
       "38134  [[25578, 1372, 46201, 34874, 1], [25578, 1372,...  \n",
       "63117                                   [[11868, 60518]]  \n",
       "9426          [[61811, 38795, 677], [61811, 31978, 677]]  \n",
       "58352  [[7666, 38456, 60518], [7666, 53058, 2356], [7...  "
      ]
     },
     "execution_count": 39,
     "metadata": {},
     "output_type": "execute_result"
    }
   ],
   "source": [
    "table_for_saving.sample(5)"
   ]
  },
  {
   "cell_type": "code",
   "execution_count": 40,
   "id": "5095e53b",
   "metadata": {},
   "outputs": [],
   "source": [
    "ancestors = {i:{'anc_tags': j, 'anc_ids': k} for i,j,k in \\\n",
    "             zip(table_for_saving['pred_id'].tolist(),\n",
    "                 table_for_saving['anc_names_chain'].tolist(),\n",
    "                 table_for_saving['anc_pred_id_chain'].tolist())}"
   ]
  },
  {
   "cell_type": "code",
   "execution_count": null,
   "id": "22bfb255",
   "metadata": {},
   "outputs": [],
   "source": []
  },
  {
   "cell_type": "code",
   "execution_count": 41,
   "id": "02e04c9a",
   "metadata": {},
   "outputs": [
    {
     "data": {
      "text/plain": [
       "(19, 3)"
      ]
     },
     "execution_count": 41,
     "metadata": {},
     "output_type": "execute_result"
    }
   ],
   "source": [
    "childs_without_ancestors = tables[(~tables['id'].isin(fully_expanded_hierarchy['child_id'].tolist())) & \n",
    "                                  (tables['id'].isin(current_tags['child_id'].tolist()))].copy()\n",
    "childs_without_ancestors['child_pred_id'] = childs_without_ancestors['id'].apply(replace_id_with_pred)\n",
    "childs_without_ancestors.shape"
   ]
  },
  {
   "cell_type": "code",
   "execution_count": 42,
   "id": "3cc71fb8",
   "metadata": {},
   "outputs": [],
   "source": [
    "for child_id in childs_without_ancestors['child_pred_id'].tolist():\n",
    "    ancestors[child_id] = {'level': 0, 'anc_tags': [], 'anc_ids': []}"
   ]
  },
  {
   "cell_type": "code",
   "execution_count": 43,
   "id": "56b65b4a",
   "metadata": {
    "scrolled": true
   },
   "outputs": [
    {
     "data": {
      "text/plain": [
       "65026"
      ]
     },
     "execution_count": 43,
     "metadata": {},
     "output_type": "execute_result"
    }
   ],
   "source": [
    "len(ancestors)"
   ]
  },
  {
   "cell_type": "code",
   "execution_count": 46,
   "id": "aa3036da",
   "metadata": {},
   "outputs": [],
   "source": [
    "with open(\"ancestor_chains.pkl\", \"wb\") as f:\n",
    "    pickle.dump(ancestors, f)"
   ]
  }
 ],
 "metadata": {
  "kernelspec": {
   "display_name": "Python 3 (ipykernel)",
   "language": "python",
   "name": "python3"
  },
  "language_info": {
   "codemirror_mode": {
    "name": "ipython",
    "version": 3
   },
   "file_extension": ".py",
   "mimetype": "text/x-python",
   "name": "python",
   "nbconvert_exporter": "python",
   "pygments_lexer": "ipython3",
   "version": "3.8.12"
  }
 },
 "nbformat": 4,
 "nbformat_minor": 5
}

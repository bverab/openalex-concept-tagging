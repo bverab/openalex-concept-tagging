{
 "cells": [
  {
   "cell_type": "markdown",
   "metadata": {},
   "source": [
    "# Pulling data from the MAG database to create training data"
   ]
  },
  {
   "cell_type": "code",
   "execution_count": null,
   "metadata": {
    "application/vnd.databricks.v1+cell": {
     "inputWidgets": {},
     "nuid": "44920190-9120-4ae8-858f-14f52b073315",
     "showTitle": false,
     "title": ""
    }
   },
   "outputs": [
    {
     "data": {
      "text/html": [
       "<style scoped>\n",
       "  .ansiout {\n",
       "    display: block;\n",
       "    unicode-bidi: embed;\n",
       "    white-space: pre-wrap;\n",
       "    word-wrap: break-word;\n",
       "    word-break: break-all;\n",
       "    font-family: \"Source Code Pro\", \"Menlo\", monospace;;\n",
       "    font-size: 13px;\n",
       "    color: #555;\n",
       "    margin-left: 4px;\n",
       "    line-height: 19px;\n",
       "  }\n",
       "</style>\n",
       "<div class=\"ansiout\"></div>"
      ]
     },
     "metadata": {
      "application/vnd.databricks.v1+output": {
       "addedWidgets": {},
       "arguments": {},
       "data": "<div class=\"ansiout\"></div>",
       "datasetInfos": [],
       "metadata": {},
       "removedWidgets": [],
       "type": "html"
      }
     },
     "output_type": "display_data"
    }
   ],
   "source": [
    "import pickle\n",
    "import boto3\n",
    "import pandas as pd\n",
    "import numpy as np"
   ]
  },
  {
   "cell_type": "code",
   "execution_count": null,
   "metadata": {
    "application/vnd.databricks.v1+cell": {
     "inputWidgets": {},
     "nuid": "2ba961a2-7e64-4844-8d78-c47e5f47c752",
     "showTitle": false,
     "title": ""
    }
   },
   "outputs": [
    {
     "data": {
      "text/html": [
       "<style scoped>\n",
       "  .ansiout {\n",
       "    display: block;\n",
       "    unicode-bidi: embed;\n",
       "    white-space: pre-wrap;\n",
       "    word-wrap: break-word;\n",
       "    word-break: break-all;\n",
       "    font-family: \"Source Code Pro\", \"Menlo\", monospace;;\n",
       "    font-size: 13px;\n",
       "    color: #555;\n",
       "    margin-left: 4px;\n",
       "    line-height: 19px;\n",
       "  }\n",
       "</style>\n",
       "<div class=\"ansiout\"></div>"
      ]
     },
     "metadata": {
      "application/vnd.databricks.v1+output": {
       "addedWidgets": {},
       "arguments": {},
       "data": "<div class=\"ansiout\"></div>",
       "datasetInfos": [],
       "metadata": {},
       "removedWidgets": [],
       "type": "html"
      }
     },
     "output_type": "display_data"
    }
   ],
   "source": [
    "from pyspark.sql import SparkSession\n",
    "sc = spark.sparkContext\n",
    "from pyspark.sql import SQLContext\n",
    "from pyspark.sql import functions as F\n",
    "from pyspark.sql.window import Window\n",
    "from pyspark.sql.types import IntegerType, StringType, FloatType, ArrayType, DoubleType, StructType, StructField\n",
    "sqlContext = SQLContext(sc)"
   ]
  },
  {
   "cell_type": "code",
   "execution_count": null,
   "metadata": {
    "application/vnd.databricks.v1+cell": {
     "inputWidgets": {},
     "nuid": "5f29191d-1059-4a1a-a42b-0a11e8599c1f",
     "showTitle": false,
     "title": ""
    }
   },
   "outputs": [
    {
     "data": {
      "text/html": [
       "<style scoped>\n",
       "  .ansiout {\n",
       "    display: block;\n",
       "    unicode-bidi: embed;\n",
       "    white-space: pre-wrap;\n",
       "    word-wrap: break-word;\n",
       "    word-break: break-all;\n",
       "    font-family: \"Source Code Pro\", \"Menlo\", monospace;;\n",
       "    font-size: 13px;\n",
       "    color: #555;\n",
       "    margin-left: 4px;\n",
       "    line-height: 19px;\n",
       "  }\n",
       "</style>\n",
       "<div class=\"ansiout\"></div>"
      ]
     },
     "metadata": {
      "application/vnd.databricks.v1+output": {
       "addedWidgets": {},
       "arguments": {},
       "data": "<div class=\"ansiout\"></div>",
       "datasetInfos": [],
       "metadata": {},
       "removedWidgets": [],
       "type": "html"
      }
     },
     "output_type": "display_data"
    }
   ],
   "source": [
    "base_save_path = \"s3://mag-model-data/raw_mag_data/\"\n",
    "iteration_save_path = \"s3://mag-model-data/iteration_final/\""
   ]
  },
  {
   "cell_type": "markdown",
   "metadata": {
    "application/vnd.databricks.v1+cell": {
     "inputWidgets": {},
     "nuid": "ccf98537-3618-4bc2-a33b-541eeb740ac6",
     "showTitle": false,
     "title": ""
    }
   },
   "source": [
    "## First Data Pull"
   ]
  },
  {
   "cell_type": "code",
   "execution_count": null,
   "metadata": {
    "application/vnd.databricks.v1+cell": {
     "inputWidgets": {},
     "nuid": "d8020bcf-90bd-465b-93b9-1e945381009f",
     "showTitle": false,
     "title": ""
    }
   },
   "outputs": [
    {
     "data": {
      "text/html": [
       "<style scoped>\n",
       "  .ansiout {\n",
       "    display: block;\n",
       "    unicode-bidi: embed;\n",
       "    white-space: pre-wrap;\n",
       "    word-wrap: break-word;\n",
       "    word-break: break-all;\n",
       "    font-family: \"Source Code Pro\", \"Menlo\", monospace;;\n",
       "    font-size: 13px;\n",
       "    color: #555;\n",
       "    margin-left: 4px;\n",
       "    line-height: 19px;\n",
       "  }\n",
       "</style>\n",
       "<div class=\"ansiout\"></div>"
      ]
     },
     "metadata": {
      "application/vnd.databricks.v1+output": {
       "addedWidgets": {},
       "arguments": {},
       "data": "<div class=\"ansiout\"></div>",
       "datasetInfos": [],
       "metadata": {},
       "removedWidgets": [],
       "type": "html"
      }
     },
     "output_type": "display_data"
    }
   ],
   "source": [
    "df = spark.read \\\n",
    ".format(\"com.databricks.spark.redshift\") \\\n",
    ".option(\"url\", redshift_url) \\\n",
    ".option(\"user\", \"app_user\") \\\n",
    ".option(\"password\", redshift_password) \\\n",
    ".option(\"query\", \"select count(*) from mag_main_papers\") \\\n",
    ".option(\"tempdir\", base_save_path) \\\n",
    ".option(\"forward_spark_s3_credentials\", True) \\\n",
    ".load()"
   ]
  },
  {
   "cell_type": "code",
   "execution_count": null,
   "metadata": {
    "application/vnd.databricks.v1+cell": {
     "inputWidgets": {},
     "nuid": "8cbcb265-eae9-44f4-9379-018ea14533ba",
     "showTitle": false,
     "title": ""
    }
   },
   "outputs": [
    {
     "data": {
      "text/html": [
       "<style scoped>\n",
       "  .ansiout {\n",
       "    display: block;\n",
       "    unicode-bidi: embed;\n",
       "    white-space: pre-wrap;\n",
       "    word-wrap: break-word;\n",
       "    word-break: break-all;\n",
       "    font-family: \"Source Code Pro\", \"Menlo\", monospace;;\n",
       "    font-size: 13px;\n",
       "    color: #555;\n",
       "    margin-left: 4px;\n",
       "    line-height: 19px;\n",
       "  }\n",
       "</style>\n",
       "<div class=\"ansiout\">+---------+\n",
       "    count|\n",
       "+---------+\n",
       "259669559|\n",
       "+---------+\n",
       "\n",
       "</div>"
      ]
     },
     "metadata": {
      "application/vnd.databricks.v1+output": {
       "addedWidgets": {},
       "arguments": {},
       "data": "<div class=\"ansiout\">+---------+\n|    count|\n+---------+\n|259669559|\n+---------+\n\n</div>",
       "datasetInfos": [],
       "metadata": {},
       "removedWidgets": [],
       "type": "html"
      }
     },
     "output_type": "display_data"
    }
   ],
   "source": [
    "df.show()"
   ]
  },
  {
   "cell_type": "markdown",
   "metadata": {
    "application/vnd.databricks.v1+cell": {
     "inputWidgets": {},
     "nuid": "47f9abef-de4b-45bd-8d74-3d30740105f2",
     "showTitle": false,
     "title": ""
    }
   },
   "source": [
    "## Getting all data"
   ]
  },
  {
   "cell_type": "code",
   "execution_count": null,
   "metadata": {
    "application/vnd.databricks.v1+cell": {
     "inputWidgets": {},
     "nuid": "21919fc2-445a-480a-9465-40f651751af4",
     "showTitle": false,
     "title": ""
    }
   },
   "outputs": [
    {
     "data": {
      "text/html": [
       "<style scoped>\n",
       "  .ansiout {\n",
       "    display: block;\n",
       "    unicode-bidi: embed;\n",
       "    white-space: pre-wrap;\n",
       "    word-wrap: break-word;\n",
       "    word-break: break-all;\n",
       "    font-family: \"Source Code Pro\", \"Menlo\", monospace;;\n",
       "    font-size: 13px;\n",
       "    color: #555;\n",
       "    margin-left: 4px;\n",
       "    line-height: 19px;\n",
       "  }\n",
       "</style>\n",
       "<div class=\"ansiout\"></div>"
      ]
     },
     "metadata": {
      "application/vnd.databricks.v1+output": {
       "addedWidgets": {},
       "arguments": {},
       "data": "<div class=\"ansiout\"></div>",
       "datasetInfos": [],
       "metadata": {},
       "removedWidgets": [],
       "type": "html"
      }
     },
     "output_type": "display_data"
    }
   ],
   "source": [
    "journal_join_query = \\\n",
    "\"\"\"\n",
    "SELECT paper_id, doc_type, paper_title, journal_name, publication_date, listagg(topic_name, '|') topics\n",
    "FROM (\n",
    "SELECT  a.paper_id, a.doc_type, a.paper_title, a.year, \n",
    "        a.publication_date, b.normalized_name as journal_name,\n",
    "        d.normalized_name as topic_name, d.level\n",
    "FROM (SELECT paper_id, doc_type, paper_title, book_title, year, \n",
    "             publication_date, online_date, journal_id\n",
    "      FROM mag_main_papers) a\n",
    "LEFT JOIN (SELECT journal_id, normalized_name\n",
    "           FROM mag_main_journals) b\n",
    "ON a.journal_id=b.journal_id\n",
    "LEFT JOIN (SELECT *\n",
    "           FROM mag_advanced_paper_fields_of_study) c\n",
    "ON a.paper_id=c.paper_id\n",
    "LEFT JOIN (SELECT *\n",
    "           FROM mag_advanced_fields_of_study) d\n",
    "ON c.field_of_study=d.field_of_study_id )\n",
    "WHERE topic_name IS NOT NULL\n",
    "GROUP BY paper_id, doc_type, paper_title, journal_name, publication_date\n",
    "\"\"\""
   ]
  },
  {
   "cell_type": "code",
   "execution_count": null,
   "metadata": {
    "application/vnd.databricks.v1+cell": {
     "inputWidgets": {},
     "nuid": "13169071-d5f2-43ea-a332-9e61847ed2a1",
     "showTitle": false,
     "title": ""
    }
   },
   "outputs": [
    {
     "data": {
      "text/html": [
       "<style scoped>\n",
       "  .ansiout {\n",
       "    display: block;\n",
       "    unicode-bidi: embed;\n",
       "    white-space: pre-wrap;\n",
       "    word-wrap: break-word;\n",
       "    word-break: break-all;\n",
       "    font-family: \"Source Code Pro\", \"Menlo\", monospace;;\n",
       "    font-size: 13px;\n",
       "    color: #555;\n",
       "    margin-left: 4px;\n",
       "    line-height: 19px;\n",
       "  }\n",
       "</style>\n",
       "<div class=\"ansiout\"></div>"
      ]
     },
     "metadata": {
      "application/vnd.databricks.v1+output": {
       "addedWidgets": {},
       "arguments": {},
       "data": "<div class=\"ansiout\"></div>",
       "datasetInfos": [],
       "metadata": {},
       "removedWidgets": [],
       "type": "html"
      }
     },
     "output_type": "display_data"
    }
   ],
   "source": [
    "all_data = spark.read \\\n",
    ".format(\"com.databricks.spark.redshift\") \\\n",
    ".option(\"url\", redshift_url) \\\n",
    ".option(\"user\", \"app_user\") \\\n",
    ".option(\"password\", redshift_password) \\\n",
    ".option(\"query\", journal_join_query) \\\n",
    ".option(\"tempdir\", base_save_path) \\\n",
    ".option(\"forward_spark_s3_credentials\", True) \\\n",
    ".load()"
   ]
  },
  {
   "cell_type": "code",
   "execution_count": null,
   "metadata": {
    "application/vnd.databricks.v1+cell": {
     "inputWidgets": {},
     "nuid": "722faafc-630c-4b46-8dbb-5d62152edd2a",
     "showTitle": false,
     "title": ""
    }
   },
   "outputs": [
    {
     "data": {
      "text/html": [
       "<style scoped>\n",
       "  .ansiout {\n",
       "    display: block;\n",
       "    unicode-bidi: embed;\n",
       "    white-space: pre-wrap;\n",
       "    word-wrap: break-word;\n",
       "    word-break: break-all;\n",
       "    font-family: \"Source Code Pro\", \"Menlo\", monospace;;\n",
       "    font-size: 13px;\n",
       "    color: #555;\n",
       "    margin-left: 4px;\n",
       "    line-height: 19px;\n",
       "  }\n",
       "</style>\n",
       "<div class=\"ansiout\">root\n",
       "-- paper_id: long (nullable = false)\n",
       "-- doc_type: string (nullable = true)\n",
       "-- paper_title: string (nullable = true)\n",
       "-- journal_name: string (nullable = true)\n",
       "-- publication_date: string (nullable = true)\n",
       "-- topics: string (nullable = true)\n",
       "\n",
       "</div>"
      ]
     },
     "metadata": {
      "application/vnd.databricks.v1+output": {
       "addedWidgets": {},
       "arguments": {},
       "data": "<div class=\"ansiout\">root\n |-- paper_id: long (nullable = false)\n |-- doc_type: string (nullable = true)\n |-- paper_title: string (nullable = true)\n |-- journal_name: string (nullable = true)\n |-- publication_date: string (nullable = true)\n |-- topics: string (nullable = true)\n\n</div>",
       "datasetInfos": [],
       "metadata": {},
       "removedWidgets": [],
       "type": "html"
      }
     },
     "output_type": "display_data"
    }
   ],
   "source": [
    "all_data.printSchema()"
   ]
  },
  {
   "cell_type": "code",
   "execution_count": null,
   "metadata": {
    "application/vnd.databricks.v1+cell": {
     "inputWidgets": {},
     "nuid": "8e177eb2-dd46-46e4-ba05-5b2156437e8b",
     "showTitle": false,
     "title": ""
    }
   },
   "outputs": [
    {
     "data": {
      "text/html": [
       "<style scoped>\n",
       "  .ansiout {\n",
       "    display: block;\n",
       "    unicode-bidi: embed;\n",
       "    white-space: pre-wrap;\n",
       "    word-wrap: break-word;\n",
       "    word-break: break-all;\n",
       "    font-family: \"Source Code Pro\", \"Menlo\", monospace;;\n",
       "    font-size: 13px;\n",
       "    color: #555;\n",
       "    margin-left: 4px;\n",
       "    line-height: 19px;\n",
       "  }\n",
       "</style>\n",
       "<div class=\"ansiout\">+----------+--------+--------------------+--------------------+----------------+--------------------+\n",
       "  paper_id|doc_type|         paper_title|        journal_name|publication_date|              topics|\n",
       "+----------+--------+--------------------+--------------------+----------------+--------------------+\n",
       "1838707898|    null|the reform of soc...|                null|      2012-01-01|unemployment|labo...|\n",
       "1963886025| Journal|faits cliniques o...|acta oto laryngol...|      1934-01-01|            medicine|\n",
       "1964360870| Journal|nonlinear adjustm...|applied economics...|      2010-04-14|financial economi...|\n",
       "1984180625| Journal|safety of dobutam...|journal of the am...|      2005-11-15|food and drug adm...|\n",
       "1988180879| Journal|application of a ...|journal of experi...|      2004-01-07|biology|bivalvia|...|\n",
       "+----------+--------+--------------------+--------------------+----------------+--------------------+\n",
       "only showing top 5 rows\n",
       "\n",
       "</div>"
      ]
     },
     "metadata": {
      "application/vnd.databricks.v1+output": {
       "addedWidgets": {},
       "arguments": {},
       "data": "<div class=\"ansiout\">+----------+--------+--------------------+--------------------+----------------+--------------------+\n|  paper_id|doc_type|         paper_title|        journal_name|publication_date|              topics|\n+----------+--------+--------------------+--------------------+----------------+--------------------+\n|1838707898|    null|the reform of soc...|                null|      2012-01-01|unemployment|labo...|\n|1963886025| Journal|faits cliniques o...|acta oto laryngol...|      1934-01-01|            medicine|\n|1964360870| Journal|nonlinear adjustm...|applied economics...|      2010-04-14|financial economi...|\n|1984180625| Journal|safety of dobutam...|journal of the am...|      2005-11-15|food and drug adm...|\n|1988180879| Journal|application of a ...|journal of experi...|      2004-01-07|biology|bivalvia|...|\n+----------+--------+--------------------+--------------------+----------------+--------------------+\nonly showing top 5 rows\n\n</div>",
       "datasetInfos": [],
       "metadata": {},
       "removedWidgets": [],
       "type": "html"
      }
     },
     "output_type": "display_data"
    }
   ],
   "source": [
    "all_data.show(5)"
   ]
  },
  {
   "cell_type": "code",
   "execution_count": null,
   "metadata": {
    "application/vnd.databricks.v1+cell": {
     "inputWidgets": {},
     "nuid": "62daeb6b-3c89-4b99-bf62-507717315e96",
     "showTitle": false,
     "title": ""
    }
   },
   "outputs": [
    {
     "data": {
      "text/html": [
       "<style scoped>\n",
       "  .ansiout {\n",
       "    display: block;\n",
       "    unicode-bidi: embed;\n",
       "    white-space: pre-wrap;\n",
       "    word-wrap: break-word;\n",
       "    word-break: break-all;\n",
       "    font-family: \"Source Code Pro\", \"Menlo\", monospace;;\n",
       "    font-size: 13px;\n",
       "    color: #555;\n",
       "    margin-left: 4px;\n",
       "    line-height: 19px;\n",
       "  }\n",
       "</style>\n",
       "<div class=\"ansiout\"></div>"
      ]
     },
     "metadata": {
      "application/vnd.databricks.v1+output": {
       "addedWidgets": {},
       "arguments": {},
       "data": "<div class=\"ansiout\"></div>",
       "datasetInfos": [],
       "metadata": {},
       "removedWidgets": [],
       "type": "html"
      }
     },
     "output_type": "display_data"
    }
   ],
   "source": [
    "filtered_data = all_data \\\n",
    ".select('paper_id','doc_type','paper_title','journal_name',\n",
    "        F.to_date(F.col('publication_date'), 'yyyy-MM-dd').alias('publication_date'), \n",
    "        F.split(F.col('topics'), \"\\|\").alias('topics')) \\\n",
    ".filter(F.col('publication_date') > \"1950-01-01\") \\\n",
    ".filter(F.col('publication_date') < \"2021-06-01\")"
   ]
  },
  {
   "cell_type": "code",
   "execution_count": null,
   "metadata": {
    "application/vnd.databricks.v1+cell": {
     "inputWidgets": {},
     "nuid": "a0d70532-c173-451a-81c7-77f25113f5cb",
     "showTitle": false,
     "title": ""
    }
   },
   "outputs": [
    {
     "data": {
      "text/html": [
       "<style scoped>\n",
       "  .ansiout {\n",
       "    display: block;\n",
       "    unicode-bidi: embed;\n",
       "    white-space: pre-wrap;\n",
       "    word-wrap: break-word;\n",
       "    word-break: break-all;\n",
       "    font-family: \"Source Code Pro\", \"Menlo\", monospace;;\n",
       "    font-size: 13px;\n",
       "    color: #555;\n",
       "    margin-left: 4px;\n",
       "    line-height: 19px;\n",
       "  }\n",
       "</style>\n",
       "<div class=\"ansiout\"></div>"
      ]
     },
     "metadata": {
      "application/vnd.databricks.v1+output": {
       "addedWidgets": {},
       "arguments": {},
       "data": "<div class=\"ansiout\"></div>",
       "datasetInfos": [],
       "metadata": {},
       "removedWidgets": [],
       "type": "html"
      }
     },
     "output_type": "display_data"
    }
   ],
   "source": [
    "filtered_test_data = all_data \\\n",
    ".select('paper_id','doc_type','paper_title','journal_name',\n",
    "        F.to_date(F.col('publication_date'), 'yyyy-MM-dd').alias('publication_date'), \n",
    "        F.split(F.col('topics'), \"\\|\").alias('topics'))  \\\n",
    ".filter(F.col('publication_date') >= \"2021-06-01\") \\\n",
    ".filter(F.col('publication_date') < \"2021-10-01\")"
   ]
  },
  {
   "cell_type": "code",
   "execution_count": null,
   "metadata": {
    "application/vnd.databricks.v1+cell": {
     "inputWidgets": {},
     "nuid": "f91a6f3f-e139-46f4-97d6-c63ee11eb277",
     "showTitle": false,
     "title": ""
    }
   },
   "outputs": [
    {
     "data": {
      "text/html": [
       "<style scoped>\n",
       "  .ansiout {\n",
       "    display: block;\n",
       "    unicode-bidi: embed;\n",
       "    white-space: pre-wrap;\n",
       "    word-wrap: break-word;\n",
       "    word-break: break-all;\n",
       "    font-family: \"Source Code Pro\", \"Menlo\", monospace;;\n",
       "    font-size: 13px;\n",
       "    color: #555;\n",
       "    margin-left: 4px;\n",
       "    line-height: 19px;\n",
       "  }\n",
       "</style>\n",
       "<div class=\"ansiout\">Out[31]: 198532356</div>"
      ]
     },
     "metadata": {
      "application/vnd.databricks.v1+output": {
       "addedWidgets": {},
       "arguments": {},
       "data": "<div class=\"ansiout\">Out[31]: 198532356</div>",
       "datasetInfos": [],
       "metadata": {},
       "removedWidgets": [],
       "type": "html"
      }
     },
     "output_type": "display_data"
    }
   ],
   "source": [
    "filtered_data.cache().count()"
   ]
  },
  {
   "cell_type": "code",
   "execution_count": null,
   "metadata": {
    "application/vnd.databricks.v1+cell": {
     "inputWidgets": {},
     "nuid": "0966e372-8c12-4685-9741-d2ea1c1ccba0",
     "showTitle": false,
     "title": ""
    }
   },
   "outputs": [
    {
     "data": {
      "text/html": [
       "<style scoped>\n",
       "  .ansiout {\n",
       "    display: block;\n",
       "    unicode-bidi: embed;\n",
       "    white-space: pre-wrap;\n",
       "    word-wrap: break-word;\n",
       "    word-break: break-all;\n",
       "    font-family: \"Source Code Pro\", \"Menlo\", monospace;;\n",
       "    font-size: 13px;\n",
       "    color: #555;\n",
       "    margin-left: 4px;\n",
       "    line-height: 19px;\n",
       "  }\n",
       "</style>\n",
       "<div class=\"ansiout\">Out[32]: 51537</div>"
      ]
     },
     "metadata": {
      "application/vnd.databricks.v1+output": {
       "addedWidgets": {},
       "arguments": {},
       "data": "<div class=\"ansiout\">Out[32]: 51537</div>",
       "datasetInfos": [],
       "metadata": {},
       "removedWidgets": [],
       "type": "html"
      }
     },
     "output_type": "display_data"
    }
   ],
   "source": [
    "filtered_test_data.cache().count()"
   ]
  },
  {
   "cell_type": "markdown",
   "metadata": {
    "application/vnd.databricks.v1+cell": {
     "inputWidgets": {},
     "nuid": "5b989135-00d8-477d-89d4-f6a14704753e",
     "showTitle": false,
     "title": ""
    }
   },
   "source": [
    "## Get Train/Val/Test"
   ]
  },
  {
   "cell_type": "markdown",
   "metadata": {
    "application/vnd.databricks.v1+cell": {
     "inputWidgets": {},
     "nuid": "f7a15771-1601-4fe9-b600-8ad10bfdc577",
     "showTitle": false,
     "title": ""
    }
   },
   "source": [
    "The following cell will only need to be run once"
   ]
  },
  {
   "cell_type": "code",
   "execution_count": null,
   "metadata": {
    "application/vnd.databricks.v1+cell": {
     "inputWidgets": {},
     "nuid": "afa0ef61-32b9-443b-9741-a60a44d95633",
     "showTitle": false,
     "title": ""
    }
   },
   "outputs": [
    {
     "data": {
      "text/html": [
       "<style scoped>\n",
       "  .ansiout {\n",
       "    display: block;\n",
       "    unicode-bidi: embed;\n",
       "    white-space: pre-wrap;\n",
       "    word-wrap: break-word;\n",
       "    word-break: break-all;\n",
       "    font-family: \"Source Code Pro\", \"Menlo\", monospace;;\n",
       "    font-size: 13px;\n",
       "    color: #555;\n",
       "    margin-left: 4px;\n",
       "    line-height: 19px;\n",
       "  }\n",
       "</style>\n",
       "<div class=\"ansiout\"></div>"
      ]
     },
     "metadata": {
      "application/vnd.databricks.v1+output": {
       "addedWidgets": {},
       "arguments": {},
       "data": "<div class=\"ansiout\"></div>",
       "datasetInfos": [],
       "metadata": {},
       "removedWidgets": [],
       "type": "html"
      }
     },
     "output_type": "display_data"
    }
   ],
   "source": [
    "def split_into_train_val_test(data, test_data, save_path):\n",
    "    train, val, test = data.randomSplit([0.995, 0.0045, 0.0005])\n",
    "    \n",
    "    train.write.mode('overwrite').parquet(f\"{save_path}train\")\n",
    "    \n",
    "    val.write.mode('overwrite').parquet(f\"{save_path}val\")\n",
    "    \n",
    "    test.union(test_data.select(*test.columns)).write.mode('overwrite').parquet(f\"{save_path}test\")"
   ]
  },
  {
   "cell_type": "code",
   "execution_count": null,
   "metadata": {
    "application/vnd.databricks.v1+cell": {
     "inputWidgets": {},
     "nuid": "653ef463-92d6-49e2-ac82-bdfcc17ecc02",
     "showTitle": false,
     "title": ""
    }
   },
   "outputs": [
    {
     "data": {
      "text/html": [
       "<style scoped>\n",
       "  .ansiout {\n",
       "    display: block;\n",
       "    unicode-bidi: embed;\n",
       "    white-space: pre-wrap;\n",
       "    word-wrap: break-word;\n",
       "    word-break: break-all;\n",
       "    font-family: \"Source Code Pro\", \"Menlo\", monospace;;\n",
       "    font-size: 13px;\n",
       "    color: #555;\n",
       "    margin-left: 4px;\n",
       "    line-height: 19px;\n",
       "  }\n",
       "</style>\n",
       "<div class=\"ansiout\"></div>"
      ]
     },
     "metadata": {
      "application/vnd.databricks.v1+output": {
       "addedWidgets": {},
       "arguments": {},
       "data": "<div class=\"ansiout\"></div>",
       "datasetInfos": [],
       "metadata": {},
       "removedWidgets": [],
       "type": "html"
      }
     },
     "output_type": "display_data"
    }
   ],
   "source": [
    "split_into_train_val_test(filtered_data, filtered_test_data, base_save_path)"
   ]
  },
  {
   "cell_type": "markdown",
   "metadata": {
    "application/vnd.databricks.v1+cell": {
     "inputWidgets": {},
     "nuid": "0a332b7d-d9c9-42c3-bce9-77b845971321",
     "showTitle": false,
     "title": ""
    }
   },
   "source": [
    "## Transforming the Data"
   ]
  },
  {
   "cell_type": "code",
   "execution_count": null,
   "metadata": {
    "application/vnd.databricks.v1+cell": {
     "inputWidgets": {},
     "nuid": "8752a0da-705e-4691-afc8-c9be84938b5e",
     "showTitle": false,
     "title": ""
    }
   },
   "outputs": [
    {
     "data": {
      "text/html": [
       "<style scoped>\n",
       "  .ansiout {\n",
       "    display: block;\n",
       "    unicode-bidi: embed;\n",
       "    white-space: pre-wrap;\n",
       "    word-wrap: break-word;\n",
       "    word-break: break-all;\n",
       "    font-family: \"Source Code Pro\", \"Menlo\", monospace;;\n",
       "    font-size: 13px;\n",
       "    color: #555;\n",
       "    margin-left: 4px;\n",
       "    line-height: 19px;\n",
       "  }\n",
       "</style>\n",
       "<div class=\"ansiout\"></div>"
      ]
     },
     "metadata": {
      "application/vnd.databricks.v1+output": {
       "addedWidgets": {},
       "arguments": {},
       "data": "<div class=\"ansiout\"></div>",
       "datasetInfos": [],
       "metadata": {},
       "removedWidgets": [],
       "type": "html"
      }
     },
     "output_type": "display_data"
    }
   ],
   "source": [
    "train = spark.read.parquet(f\"{base_save_path}train\") \\\n",
    ".filter(F.col('doc_type')!='Patent')\n",
    "val = spark.read.parquet(f\"{base_save_path}val\") \\\n",
    ".filter(F.col('doc_type')!='Patent')\n",
    "test = spark.read.parquet(f\"{base_save_path}test\") \\\n",
    ".filter(F.col('doc_type')!='Patent')"
   ]
  },
  {
   "cell_type": "code",
   "execution_count": null,
   "metadata": {
    "application/vnd.databricks.v1+cell": {
     "inputWidgets": {},
     "nuid": "4db49de2-2231-4ff1-a01f-f7c3ce49b1ef",
     "showTitle": false,
     "title": ""
    }
   },
   "outputs": [
    {
     "data": {
      "text/html": [
       "<style scoped>\n",
       "  .ansiout {\n",
       "    display: block;\n",
       "    unicode-bidi: embed;\n",
       "    white-space: pre-wrap;\n",
       "    word-wrap: break-word;\n",
       "    word-break: break-all;\n",
       "    font-family: \"Source Code Pro\", \"Menlo\", monospace;;\n",
       "    font-size: 13px;\n",
       "    color: #555;\n",
       "    margin-left: 4px;\n",
       "    line-height: 19px;\n",
       "  }\n",
       "</style>\n",
       "<div class=\"ansiout\">Out[5]: 99094481</div>"
      ]
     },
     "metadata": {
      "application/vnd.databricks.v1+output": {
       "addedWidgets": {},
       "arguments": {},
       "data": "<div class=\"ansiout\">Out[5]: 99094481</div>",
       "datasetInfos": [],
       "metadata": {},
       "removedWidgets": [],
       "type": "html"
      }
     },
     "output_type": "display_data"
    }
   ],
   "source": [
    "train.cache().count()"
   ]
  },
  {
   "cell_type": "code",
   "execution_count": null,
   "metadata": {
    "application/vnd.databricks.v1+cell": {
     "inputWidgets": {},
     "nuid": "955613b4-1c27-45d8-ba68-a9a0793f6c05",
     "showTitle": false,
     "title": ""
    }
   },
   "outputs": [
    {
     "data": {
      "text/html": [
       "<style scoped>\n",
       "  .ansiout {\n",
       "    display: block;\n",
       "    unicode-bidi: embed;\n",
       "    white-space: pre-wrap;\n",
       "    word-wrap: break-word;\n",
       "    word-break: break-all;\n",
       "    font-family: \"Source Code Pro\", \"Menlo\", monospace;;\n",
       "    font-size: 13px;\n",
       "    color: #555;\n",
       "    margin-left: 4px;\n",
       "    line-height: 19px;\n",
       "  }\n",
       "</style>\n",
       "<div class=\"ansiout\">Out[6]: 447909</div>"
      ]
     },
     "metadata": {
      "application/vnd.databricks.v1+output": {
       "addedWidgets": {},
       "arguments": {},
       "data": "<div class=\"ansiout\">Out[6]: 447909</div>",
       "datasetInfos": [],
       "metadata": {},
       "removedWidgets": [],
       "type": "html"
      }
     },
     "output_type": "display_data"
    }
   ],
   "source": [
    "val.cache().count()"
   ]
  },
  {
   "cell_type": "code",
   "execution_count": null,
   "metadata": {
    "application/vnd.databricks.v1+cell": {
     "inputWidgets": {},
     "nuid": "4473e4d1-e734-43a9-838b-58d72784d052",
     "showTitle": false,
     "title": ""
    }
   },
   "outputs": [
    {
     "data": {
      "text/html": [
       "<style scoped>\n",
       "  .ansiout {\n",
       "    display: block;\n",
       "    unicode-bidi: embed;\n",
       "    white-space: pre-wrap;\n",
       "    word-wrap: break-word;\n",
       "    word-break: break-all;\n",
       "    font-family: \"Source Code Pro\", \"Menlo\", monospace;;\n",
       "    font-size: 13px;\n",
       "    color: #555;\n",
       "    margin-left: 4px;\n",
       "    line-height: 19px;\n",
       "  }\n",
       "</style>\n",
       "<div class=\"ansiout\">Out[7]: 97238</div>"
      ]
     },
     "metadata": {
      "application/vnd.databricks.v1+output": {
       "addedWidgets": {},
       "arguments": {},
       "data": "<div class=\"ansiout\">Out[7]: 97238</div>",
       "datasetInfos": [],
       "metadata": {},
       "removedWidgets": [],
       "type": "html"
      }
     },
     "output_type": "display_data"
    }
   ],
   "source": [
    "test.cache().count()"
   ]
  },
  {
   "cell_type": "code",
   "execution_count": null,
   "metadata": {
    "application/vnd.databricks.v1+cell": {
     "inputWidgets": {},
     "nuid": "2e74f452-8730-4cb7-8806-1c3cb1657ea7",
     "showTitle": false,
     "title": ""
    }
   },
   "outputs": [
    {
     "data": {
      "text/html": [
       "<style scoped>\n",
       "  .ansiout {\n",
       "    display: block;\n",
       "    unicode-bidi: embed;\n",
       "    white-space: pre-wrap;\n",
       "    word-wrap: break-word;\n",
       "    word-break: break-all;\n",
       "    font-family: \"Source Code Pro\", \"Menlo\", monospace;;\n",
       "    font-size: 13px;\n",
       "    color: #555;\n",
       "    margin-left: 4px;\n",
       "    line-height: 19px;\n",
       "  }\n",
       "</style>\n",
       "<div class=\"ansiout\">+-------+------------------+\n",
       "summary|   paper_title_len|\n",
       "+-------+------------------+\n",
       "  count|          99094481|\n",
       "   mean|12.283440548015989|\n",
       " stddev| 5.668647817797564|\n",
       "    min|                 1|\n",
       "    max|                70|\n",
       "+-------+------------------+\n",
       "\n",
       "</div>"
      ]
     },
     "metadata": {
      "application/vnd.databricks.v1+output": {
       "addedWidgets": {},
       "arguments": {},
       "data": "<div class=\"ansiout\">+-------+------------------+\n|summary|   paper_title_len|\n+-------+------------------+\n|  count|          99094481|\n|   mean|12.283440548015989|\n| stddev| 5.668647817797564|\n|    min|                 1|\n|    max|                70|\n+-------+------------------+\n\n</div>",
       "datasetInfos": [],
       "metadata": {},
       "removedWidgets": [],
       "type": "html"
      }
     },
     "output_type": "display_data"
    }
   ],
   "source": [
    "train.select(F.split(F.col('paper_title'), \" \").alias('words')) \\\n",
    ".withColumn(\"paper_title_len\", F.size(F.col('words'))) \\\n",
    ".select(\"paper_title_len\").describe().show()"
   ]
  },
  {
   "cell_type": "code",
   "execution_count": null,
   "metadata": {
    "application/vnd.databricks.v1+cell": {
     "inputWidgets": {},
     "nuid": "3ebfe846-c947-4e8b-927a-f3b75fa7b451",
     "showTitle": false,
     "title": ""
    }
   },
   "outputs": [
    {
     "data": {
      "text/html": [
       "<style scoped>\n",
       "  .ansiout {\n",
       "    display: block;\n",
       "    unicode-bidi: embed;\n",
       "    white-space: pre-wrap;\n",
       "    word-wrap: break-word;\n",
       "    word-break: break-all;\n",
       "    font-family: \"Source Code Pro\", \"Menlo\", monospace;;\n",
       "    font-size: 13px;\n",
       "    color: #555;\n",
       "    margin-left: 4px;\n",
       "    line-height: 19px;\n",
       "  }\n",
       "</style>\n",
       "<div class=\"ansiout\"></div>"
      ]
     },
     "metadata": {
      "application/vnd.databricks.v1+output": {
       "addedWidgets": {},
       "arguments": {},
       "data": "<div class=\"ansiout\"></div>",
       "datasetInfos": [],
       "metadata": {},
       "removedWidgets": [],
       "type": "html"
      }
     },
     "output_type": "display_data"
    }
   ],
   "source": [
    "word_counts = train.select(F.split(F.col('paper_title'), \" \").alias('words')) \\\n",
    ".withColumn(\"word\", F.explode(F.col('words'))) \\\n",
    ".groupBy('word').count() \\\n",
    ".filter(F.col('count') > 100).toPandas()"
   ]
  },
  {
   "cell_type": "code",
   "execution_count": null,
   "metadata": {
    "application/vnd.databricks.v1+cell": {
     "inputWidgets": {},
     "nuid": "ceae065e-6c30-4f27-b667-8211975d1142",
     "showTitle": false,
     "title": ""
    }
   },
   "outputs": [
    {
     "data": {
      "text/html": [
       "<style scoped>\n",
       "  .ansiout {\n",
       "    display: block;\n",
       "    unicode-bidi: embed;\n",
       "    white-space: pre-wrap;\n",
       "    word-wrap: break-word;\n",
       "    word-break: break-all;\n",
       "    font-family: \"Source Code Pro\", \"Menlo\", monospace;;\n",
       "    font-size: 13px;\n",
       "    color: #555;\n",
       "    margin-left: 4px;\n",
       "    line-height: 19px;\n",
       "  }\n",
       "</style>\n",
       "<div class=\"ansiout\">Out[12]: (177565, 2)</div>"
      ]
     },
     "metadata": {
      "application/vnd.databricks.v1+output": {
       "addedWidgets": {},
       "arguments": {},
       "data": "<div class=\"ansiout\">Out[12]: (177565, 2)</div>",
       "datasetInfos": [],
       "metadata": {},
       "removedWidgets": [],
       "type": "html"
      }
     },
     "output_type": "display_data"
    }
   ],
   "source": [
    "word_counts.shape"
   ]
  },
  {
   "cell_type": "markdown",
   "metadata": {
    "application/vnd.databricks.v1+cell": {
     "inputWidgets": {},
     "nuid": "386ca0a4-0074-45d4-a510-d848f1136449",
     "showTitle": false,
     "title": ""
    }
   },
   "source": [
    "### Vocab (Using Basic Word Tokenizer)"
   ]
  },
  {
   "cell_type": "code",
   "execution_count": null,
   "metadata": {
    "application/vnd.databricks.v1+cell": {
     "inputWidgets": {},
     "nuid": "8a87ac82-684a-4602-9d55-b37aea7a22bc",
     "showTitle": false,
     "title": ""
    }
   },
   "outputs": [
    {
     "data": {
      "text/html": [
       "<style scoped>\n",
       "  .ansiout {\n",
       "    display: block;\n",
       "    unicode-bidi: embed;\n",
       "    white-space: pre-wrap;\n",
       "    word-wrap: break-word;\n",
       "    word-break: break-all;\n",
       "    font-family: \"Source Code Pro\", \"Menlo\", monospace;;\n",
       "    font-size: 13px;\n",
       "    color: #555;\n",
       "    margin-left: 4px;\n",
       "    line-height: 19px;\n",
       "  }\n",
       "</style>\n",
       "<div class=\"ansiout\"></div>"
      ]
     },
     "metadata": {
      "application/vnd.databricks.v1+output": {
       "addedWidgets": {},
       "arguments": {},
       "data": "<div class=\"ansiout\"></div>",
       "datasetInfos": [],
       "metadata": {},
       "removedWidgets": [],
       "type": "html"
      }
     },
     "output_type": "display_data"
    }
   ],
   "source": [
    "def get_value_counts_for_column(data, col_name):\n",
    "    if col_name == 'topics':\n",
    "        counts_df = data.select(F.explode(F.col(col_name)).alias(col_name)).na.drop().groupBy(col_name).count() \\\n",
    "        .orderBy('count', ascending=False)\n",
    "    else:\n",
    "        counts_df = data.select('paper_id', col_name).na.drop().groupBy(col_name).count() \\\n",
    "        .orderBy('count', ascending=False)\n",
    "    return counts_df.toPandas()\n",
    "\n",
    "\n",
    "def create_vocab(data, save_path, col_name, cutoff=5, unk_token=True, none_token=True, val_count_df=None):\n",
    "    \n",
    "    try:\n",
    "        val_counts = val_count_df.copy()\n",
    "    except:\n",
    "        val_counts = get_value_counts_for_column(data, col_name)\n",
    "    \n",
    "    val_counts.columns = [f\"{col_name}_token\", \"count\"]\n",
    "    \n",
    "    final_vocab_df = val_counts[val_counts['count'] >= cutoff].copy()\n",
    "    \n",
    "    if unk_token & none_token:\n",
    "        token_list = [\"[UNK]\"] + [\"[NONE]\"] + list(final_vocab_df[f\"{col_name}_token\"])\n",
    "    elif unk_token:\n",
    "        token_list = [\"[UNK]\"] + list(final_vocab_df[f\"{col_name}_token\"])\n",
    "    elif none_token:\n",
    "        token_list = [\"[NONE]\"] + list(final_vocab_df[f\"{col_name}_token\"])\n",
    "    else:\n",
    "        token_list = list(final_vocab_df[f\"{col_name}_token\"])\n",
    "        \n",
    "    index_list = list(range(1, len(token_list)+1))\n",
    "    \n",
    "    final_vocab = dict(zip(token_list, index_list))\n",
    "    \n",
    "    client = boto3.client('s3')\n",
    "    \n",
    "    bucket_name = save_path.split(\"/\")[2]\n",
    "    vocab_key = f\"{save_path.split('/')[-2]}/vocab/{col_name}_vocab.pkl\"\n",
    "    _ = client.put_object(Body=pickle.dumps(final_vocab), Bucket=bucket_name, Key=vocab_key)\n",
    "    \n",
    "    return final_vocab"
   ]
  },
  {
   "cell_type": "code",
   "execution_count": null,
   "metadata": {
    "application/vnd.databricks.v1+cell": {
     "inputWidgets": {},
     "nuid": "0a2d890f-cbec-470c-a2ba-80444d036b71",
     "showTitle": false,
     "title": ""
    }
   },
   "outputs": [
    {
     "data": {
      "text/html": [
       "<style scoped>\n",
       "  .ansiout {\n",
       "    display: block;\n",
       "    unicode-bidi: embed;\n",
       "    white-space: pre-wrap;\n",
       "    word-wrap: break-word;\n",
       "    word-break: break-all;\n",
       "    font-family: \"Source Code Pro\", \"Menlo\", monospace;;\n",
       "    font-size: 13px;\n",
       "    color: #555;\n",
       "    margin-left: 4px;\n",
       "    line-height: 19px;\n",
       "  }\n",
       "</style>\n",
       "<div class=\"ansiout\"></div>"
      ]
     },
     "metadata": {
      "application/vnd.databricks.v1+output": {
       "addedWidgets": {},
       "arguments": {},
       "data": "<div class=\"ansiout\"></div>",
       "datasetInfos": [],
       "metadata": {},
       "removedWidgets": [],
       "type": "html"
      }
     },
     "output_type": "display_data"
    }
   ],
   "source": [
    "def transform_dataset(data, save_path, dataset_type='train', val_count_df=None, doc_type_cutoff=300000, journal_cutoff=50, \n",
    "                      topic_cutoff=100, title_cutoff=100):\n",
    "    if dataset_type=='train':\n",
    "        print(\"Getting vocabs\")\n",
    "        doc_vocab = create_vocab(data, save_path, \"doc_type\", cutoff=doc_type_cutoff, unk_token=True, none_token=True)\n",
    "        journal_vocab = create_vocab(data, save_path, \"journal_name\", cutoff=journal_cutoff, unk_token=True, none_token=True)\n",
    "        target_vocab = create_vocab(data, save_path, \"topics\", cutoff=topic_cutoff, unk_token=False, none_token=False)\n",
    "        title_vocab = create_vocab(data, save_path, \"paper_title\", cutoff=title_cutoff, unk_token=True, none_token=True, val_count_df=val_count_df)\n",
    "    else:\n",
    "        print(\"Loading vocabs\")\n",
    "        client = boto3.client('s3')\n",
    "        bucket_name = save_path.split(\"/\")[2]\n",
    "        doc_vocab_key = f\"{save_path.split('/')[-2]}/vocab/doc_type_vocab.pkl\"\n",
    "        doc_vocab = pickle.loads(client.get_object(Bucket=bucket_name, Key=doc_vocab_key)['Body'].read())\n",
    "        journal_vocab_key = f\"{save_path.split('/')[-2]}/vocab/journal_name_vocab.pkl\"\n",
    "        journal_vocab = pickle.loads(client.get_object(Bucket=bucket_name, Key=journal_vocab_key)['Body'].read())\n",
    "        target_vocab_key = f\"{save_path.split('/')[-2]}/vocab/topics_vocab.pkl\"\n",
    "        target_vocab = pickle.loads(client.get_object(Bucket=bucket_name, Key=target_vocab_key)['Body'].read())\n",
    "        title_vocab_key = f\"{save_path.split('/')[-2]}/vocab/paper_title_vocab.pkl\"\n",
    "        title_vocab = pickle.loads(client.get_object(Bucket=bucket_name, Key=title_vocab_key)['Body'].read())\n",
    "    \n",
    "    print(f\"Doc type vocab length: {len(doc_vocab)}\")\n",
    "    print(f\"Journal vocab length: {len(journal_vocab)}\")\n",
    "    print(f\"Target vocab length: {len(target_vocab)}\")\n",
    "    print(f\"Paper title vocab length: {len(title_vocab)}\")\n",
    "    \n",
    "    def tokenize_target(feature):\n",
    "        token_feature = []\n",
    "        for part in feature:\n",
    "            try:\n",
    "                token_feature.append(target_vocab[part])\n",
    "            except:\n",
    "                pass\n",
    "        if not token_feature:\n",
    "            token_feature = [-1]\n",
    "        return token_feature\n",
    "    \n",
    "    def tokenize_feature(feature, feature_name='doc_type'):\n",
    "        if feature_name=='doc_type':\n",
    "            vocab = doc_vocab\n",
    "        else:\n",
    "            vocab = journal_vocab\n",
    "        unk_token_id = vocab.get('[UNK]')\n",
    "        none_token_id = vocab.get('[NONE]')\n",
    "        if feature:\n",
    "            token_feature = [vocab.get(feature, unk_token_id)]\n",
    "        else:\n",
    "            token_feature = [none_token_id]\n",
    "        return token_feature\n",
    "    \n",
    "    def tokenize_title(feature):\n",
    "        split_feature = feature.split(\" \")\n",
    "        vocab = title_vocab\n",
    "        unk_token_id = vocab.get('[UNK]')\n",
    "        none_token_id = vocab.get('[NONE]')\n",
    "        if feature:\n",
    "            token_feature = [vocab.get(x, unk_token_id) for x in split_feature]\n",
    "        else:\n",
    "            token_feature = [none_token_id]\n",
    "        return token_feature\n",
    "\n",
    "    tokenize_title_udf = F.udf(tokenize_title, ArrayType(IntegerType()))\n",
    "    tokenize_target_udf = F.udf(tokenize_target, ArrayType(IntegerType()))\n",
    "    tokenize_feature_udf = F.udf(tokenize_feature, ArrayType(IntegerType()))\n",
    "    \n",
    "    print(\"Tokenizing data\")\n",
    "    final_data = data \\\n",
    "    .withColumn(\"doc_type_tok\", tokenize_feature_udf(F.col('doc_type'), F.lit('doc_type'))) \\\n",
    "    .withColumn(\"journal_tok\", tokenize_feature_udf(F.col('journal_name'), F.lit('journal_name'))) \\\n",
    "    .withColumn(\"target_tok\", tokenize_target_udf(F.col('topics'))) \\\n",
    "    .withColumn(\"paper_title_tok\", tokenize_title_udf(F.col('paper_title')))\n",
    "    \n",
    "    print(\"Saving data\")\n",
    "    if dataset_type == 'train':\n",
    "        coalesce_num = 50\n",
    "    elif dataset_type == 'val':\n",
    "        coalesce_num = 10\n",
    "    else:\n",
    "        coalesce_num = 5\n",
    "    final_data.select('paper_id',\n",
    "                      'publication_date',\n",
    "                      'doc_type_tok',\n",
    "                      'journal_tok',\n",
    "                      'target_tok',\n",
    "                      'paper_title_tok') \\\n",
    "    .coalesce(coalesce_num).write.mode('overwrite').parquet(f\"{save_path}tokenized_data/{dataset_type}\")\n",
    "    "
   ]
  },
  {
   "cell_type": "code",
   "execution_count": null,
   "metadata": {
    "application/vnd.databricks.v1+cell": {
     "inputWidgets": {},
     "nuid": "ccb99f09-f0b9-416c-8bd3-17c116ed9901",
     "showTitle": false,
     "title": ""
    }
   },
   "outputs": [
    {
     "data": {
      "text/html": [
       "<style scoped>\n",
       "  .ansiout {\n",
       "    display: block;\n",
       "    unicode-bidi: embed;\n",
       "    white-space: pre-wrap;\n",
       "    word-wrap: break-word;\n",
       "    word-break: break-all;\n",
       "    font-family: \"Source Code Pro\", \"Menlo\", monospace;;\n",
       "    font-size: 13px;\n",
       "    color: #555;\n",
       "    margin-left: 4px;\n",
       "    line-height: 19px;\n",
       "  }\n",
       "</style>\n",
       "<div class=\"ansiout\">Getting vocabs\n",
       "Doc type vocab length: 8\n",
       "Journal vocab length: 42810\n",
       "Target vocab length: 82178\n",
       "Paper title vocab length: 177567\n",
       "Tokenizing data\n",
       "Saving data\n",
       "</div>"
      ]
     },
     "metadata": {
      "application/vnd.databricks.v1+output": {
       "addedWidgets": {},
       "arguments": {},
       "data": "<div class=\"ansiout\">Getting vocabs\nDoc type vocab length: 8\nJournal vocab length: 42810\nTarget vocab length: 82178\nPaper title vocab length: 177567\nTokenizing data\nSaving data\n</div>",
       "datasetInfos": [],
       "metadata": {},
       "removedWidgets": [],
       "type": "html"
      }
     },
     "output_type": "display_data"
    }
   ],
   "source": [
    "transform_dataset(train, iteration_save_path, 'train', val_count_df=word_counts, doc_type_cutoff=300000, journal_cutoff=100, \n",
    "                      topic_cutoff=500, title_cutoff=100)"
   ]
  },
  {
   "cell_type": "code",
   "execution_count": null,
   "metadata": {
    "application/vnd.databricks.v1+cell": {
     "inputWidgets": {},
     "nuid": "0d9c6026-0e63-48b8-a876-660ee3a2d8c1",
     "showTitle": false,
     "title": ""
    }
   },
   "outputs": [
    {
     "data": {
      "text/html": [
       "<style scoped>\n",
       "  .ansiout {\n",
       "    display: block;\n",
       "    unicode-bidi: embed;\n",
       "    white-space: pre-wrap;\n",
       "    word-wrap: break-word;\n",
       "    word-break: break-all;\n",
       "    font-family: \"Source Code Pro\", \"Menlo\", monospace;;\n",
       "    font-size: 13px;\n",
       "    color: #555;\n",
       "    margin-left: 4px;\n",
       "    line-height: 19px;\n",
       "  }\n",
       "</style>\n",
       "<div class=\"ansiout\">Loading vocabs\n",
       "Doc type vocab length: 8\n",
       "Journal vocab length: 42810\n",
       "Target vocab length: 82178\n",
       "Paper title vocab length: 177567\n",
       "Tokenizing data\n",
       "Saving data\n",
       "</div>"
      ]
     },
     "metadata": {
      "application/vnd.databricks.v1+output": {
       "addedWidgets": {},
       "arguments": {},
       "data": "<div class=\"ansiout\">Loading vocabs\nDoc type vocab length: 8\nJournal vocab length: 42810\nTarget vocab length: 82178\nPaper title vocab length: 177567\nTokenizing data\nSaving data\n</div>",
       "datasetInfos": [],
       "metadata": {},
       "removedWidgets": [],
       "type": "html"
      }
     },
     "output_type": "display_data"
    }
   ],
   "source": [
    "transform_dataset(val, iteration_save_path, 'val')"
   ]
  },
  {
   "cell_type": "code",
   "execution_count": null,
   "metadata": {
    "application/vnd.databricks.v1+cell": {
     "inputWidgets": {},
     "nuid": "651b92b6-5a2e-49e0-a2a7-1eacbbe7fb26",
     "showTitle": false,
     "title": ""
    }
   },
   "outputs": [
    {
     "data": {
      "text/html": [
       "<style scoped>\n",
       "  .ansiout {\n",
       "    display: block;\n",
       "    unicode-bidi: embed;\n",
       "    white-space: pre-wrap;\n",
       "    word-wrap: break-word;\n",
       "    word-break: break-all;\n",
       "    font-family: \"Source Code Pro\", \"Menlo\", monospace;;\n",
       "    font-size: 13px;\n",
       "    color: #555;\n",
       "    margin-left: 4px;\n",
       "    line-height: 19px;\n",
       "  }\n",
       "</style>\n",
       "<div class=\"ansiout\">Loading vocabs\n",
       "Doc type vocab length: 8\n",
       "Journal vocab length: 42810\n",
       "Target vocab length: 82178\n",
       "Paper title vocab length: 177567\n",
       "Tokenizing data\n",
       "Saving data\n",
       "</div>"
      ]
     },
     "metadata": {
      "application/vnd.databricks.v1+output": {
       "addedWidgets": {},
       "arguments": {},
       "data": "<div class=\"ansiout\">Loading vocabs\nDoc type vocab length: 8\nJournal vocab length: 42810\nTarget vocab length: 82178\nPaper title vocab length: 177567\nTokenizing data\nSaving data\n</div>",
       "datasetInfos": [],
       "metadata": {},
       "removedWidgets": [],
       "type": "html"
      }
     },
     "output_type": "display_data"
    }
   ],
   "source": [
    "transform_dataset(test, iteration_save_path, 'test')"
   ]
  },
  {
   "cell_type": "code",
   "execution_count": null,
   "metadata": {
    "application/vnd.databricks.v1+cell": {
     "inputWidgets": {},
     "nuid": "1d799540-5de6-4215-aee0-399d55236bcb",
     "showTitle": false,
     "title": ""
    }
   },
   "outputs": [
    {
     "data": {
      "text/html": [
       "<style scoped>\n",
       "  .ansiout {\n",
       "    display: block;\n",
       "    unicode-bidi: embed;\n",
       "    white-space: pre-wrap;\n",
       "    word-wrap: break-word;\n",
       "    word-break: break-all;\n",
       "    font-family: \"Source Code Pro\", \"Menlo\", monospace;;\n",
       "    font-size: 13px;\n",
       "    color: #555;\n",
       "    margin-left: 4px;\n",
       "    line-height: 19px;\n",
       "  }\n",
       "</style>\n",
       "<div class=\"ansiout\"></div>"
      ]
     },
     "metadata": {
      "application/vnd.databricks.v1+output": {
       "addedWidgets": {},
       "arguments": {},
       "data": "<div class=\"ansiout\"></div>",
       "datasetInfos": [],
       "metadata": {},
       "removedWidgets": [],
       "type": "html"
      }
     },
     "output_type": "display_data"
    }
   ],
   "source": [
    "def get_value_counts_for_column(data, col_name):\n",
    "    if col_name == 'topics':\n",
    "        counts_df = data.select(F.explode(F.col(col_name)).alias(col_name)).na.drop().groupBy(col_name).count() \\\n",
    "        .orderBy('count', ascending=False)\n",
    "    else:\n",
    "        counts_df = data.select('paper_id', col_name).na.drop().groupBy(col_name).count() \\\n",
    "        .orderBy('count', ascending=False)\n",
    "    return counts_df.toPandas()"
   ]
  },
  {
   "cell_type": "code",
   "execution_count": null,
   "metadata": {
    "application/vnd.databricks.v1+cell": {
     "inputWidgets": {},
     "nuid": "fd965bc7-565e-4ec0-8b4b-a27585ef97d9",
     "showTitle": false,
     "title": ""
    }
   },
   "outputs": [
    {
     "data": {
      "text/html": [
       "<style scoped>\n",
       "  .ansiout {\n",
       "    display: block;\n",
       "    unicode-bidi: embed;\n",
       "    white-space: pre-wrap;\n",
       "    word-wrap: break-word;\n",
       "    word-break: break-all;\n",
       "    font-family: \"Source Code Pro\", \"Menlo\", monospace;;\n",
       "    font-size: 13px;\n",
       "    color: #555;\n",
       "    margin-left: 4px;\n",
       "    line-height: 19px;\n",
       "  }\n",
       "</style>\n",
       "<div class=\"ansiout\"></div>"
      ]
     },
     "metadata": {
      "application/vnd.databricks.v1+output": {
       "addedWidgets": {},
       "arguments": {},
       "data": "<div class=\"ansiout\"></div>",
       "datasetInfos": [],
       "metadata": {},
       "removedWidgets": [],
       "type": "html"
      }
     },
     "output_type": "display_data"
    }
   ],
   "source": [
    "val_counts = get_value_counts_for_column(train, 'topics')"
   ]
  },
  {
   "cell_type": "code",
   "execution_count": null,
   "metadata": {
    "application/vnd.databricks.v1+cell": {
     "inputWidgets": {},
     "nuid": "c3bbb300-326b-4e00-8906-7bd250aee715",
     "showTitle": false,
     "title": ""
    }
   },
   "outputs": [
    {
     "data": {
      "text/html": [
       "<style scoped>\n",
       "  .ansiout {\n",
       "    display: block;\n",
       "    unicode-bidi: embed;\n",
       "    white-space: pre-wrap;\n",
       "    word-wrap: break-word;\n",
       "    word-break: break-all;\n",
       "    font-family: \"Source Code Pro\", \"Menlo\", monospace;;\n",
       "    font-size: 13px;\n",
       "    color: #555;\n",
       "    margin-left: 4px;\n",
       "    line-height: 19px;\n",
       "  }\n",
       "</style>\n",
       "<div class=\"ansiout\"></div>"
      ]
     },
     "metadata": {
      "application/vnd.databricks.v1+output": {
       "addedWidgets": {},
       "arguments": {},
       "data": "<div class=\"ansiout\"></div>",
       "datasetInfos": [],
       "metadata": {},
       "removedWidgets": [],
       "type": "html"
      }
     },
     "output_type": "display_data"
    }
   ],
   "source": [
    "val_counts.columns = [f\"topics_token\", \"count\"]\n",
    "    \n",
    "final_vocab_df = val_counts[val_counts['count'] >= 500].copy()"
   ]
  },
  {
   "cell_type": "code",
   "execution_count": null,
   "metadata": {
    "application/vnd.databricks.v1+cell": {
     "inputWidgets": {},
     "nuid": "f28f3fb6-7549-4152-8f8d-382573a2c830",
     "showTitle": false,
     "title": ""
    }
   },
   "outputs": [
    {
     "data": {
      "text/html": [
       "<style scoped>\n",
       "  .ansiout {\n",
       "    display: block;\n",
       "    unicode-bidi: embed;\n",
       "    white-space: pre-wrap;\n",
       "    word-wrap: break-word;\n",
       "    word-break: break-all;\n",
       "    font-family: \"Source Code Pro\", \"Menlo\", monospace;;\n",
       "    font-size: 13px;\n",
       "    color: #555;\n",
       "    margin-left: 4px;\n",
       "    line-height: 19px;\n",
       "  }\n",
       "</style>\n",
       "<div class=\"ansiout\"></div>"
      ]
     },
     "metadata": {
      "application/vnd.databricks.v1+output": {
       "addedWidgets": {},
       "arguments": {},
       "data": "<div class=\"ansiout\"></div>",
       "datasetInfos": [],
       "metadata": {},
       "removedWidgets": [],
       "type": "html"
      }
     },
     "output_type": "display_data"
    }
   ],
   "source": [
    "client = boto3.client('s3')\n",
    "    \n",
    "bucket_name = iteration_save_path.split(\"/\")[2]\n",
    "vocab_key = f\"{iteration_save_path.split('/')[-2]}/vocab/topics_vocab_counts.pkl\"\n",
    "_ = client.put_object(Body=pickle.dumps(final_vocab_df), Bucket=bucket_name, Key=vocab_key)"
   ]
  },
  {
   "cell_type": "markdown",
   "metadata": {
    "application/vnd.databricks.v1+cell": {
     "inputWidgets": {},
     "nuid": "9d4e041d-4f4e-444d-9725-6d1d7ecfd5aa",
     "showTitle": false,
     "title": ""
    }
   },
   "source": [
    "## Get data into TFRecords (Use Local Machine or EC2)"
   ]
  }
 ],
 "metadata": {
  "application/vnd.databricks.v1+notebook": {
   "dashboards": [],
   "language": "python",
   "notebookMetadata": {
    "pythonIndentUnit": 4
   },
   "notebookName": "mag_data_create_ITER1_spark",
   "notebookOrigID": 4364378669045414,
   "widgets": {}
  },
  "kernelspec": {
   "display_name": "Python 3 (ipykernel)",
   "language": "python",
   "name": "python3"
  },
  "language_info": {
   "codemirror_mode": {
    "name": "ipython",
    "version": 3
   },
   "file_extension": ".py",
   "mimetype": "text/x-python",
   "name": "python",
   "nbconvert_exporter": "python",
   "pygments_lexer": "ipython3",
   "version": "3.8.11"
  }
 },
 "nbformat": 4,
 "nbformat_minor": 1
}
